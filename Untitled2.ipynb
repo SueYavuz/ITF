{
 "cells": [
  {
   "cell_type": "code",
   "execution_count": 13,
   "id": "1662b1bd",
   "metadata": {},
   "outputs": [
    {
     "name": "stdout",
     "output_type": "stream",
     "text": [
      "3\n",
      "9\n",
      "27\n",
      "81\n",
      "243\n",
      "729\n",
      "2187\n",
      "6561\n",
      "19683\n",
      "59049\n"
     ]
    }
   ],
   "source": [
    "for i in range(1,11):\n",
    "     \n",
    "    print(3**i)"
   ]
  },
  {
   "cell_type": "code",
   "execution_count": 31,
   "id": "1d6810d9",
   "metadata": {},
   "outputs": [
    {
     "name": "stdout",
     "output_type": "stream",
     "text": [
      "Write a stock of the product: 7\n",
      "Write a stock of the product: 7\n",
      "The total quantity of product is 70\n"
     ]
    }
   ],
   "source": [
    "total = 0\n",
    "\n",
    "while total < 50:\n",
    "    inp1 = int(input(\"Write a stock of the product: \"))\n",
    "    total = total + inp1*5\n",
    "    \n",
    "print('The total quantity of product is', total)\n",
    "    \n",
    "    \n",
    "    "
   ]
  },
  {
   "cell_type": "code",
   "execution_count": null,
   "id": "af1887d4",
   "metadata": {},
   "outputs": [],
   "source": []
  },
  {
   "cell_type": "code",
   "execution_count": null,
   "id": "f6408d69",
   "metadata": {},
   "outputs": [],
   "source": []
  },
  {
   "cell_type": "code",
   "execution_count": null,
   "id": "d4b4c0e7",
   "metadata": {},
   "outputs": [],
   "source": []
  },
  {
   "cell_type": "code",
   "execution_count": null,
   "id": "f386626f",
   "metadata": {},
   "outputs": [],
   "source": []
  }
 ],
 "metadata": {
  "kernelspec": {
   "display_name": "Python 3 (ipykernel)",
   "language": "python",
   "name": "python3"
  },
  "language_info": {
   "codemirror_mode": {
    "name": "ipython",
    "version": 3
   },
   "file_extension": ".py",
   "mimetype": "text/x-python",
   "name": "python",
   "nbconvert_exporter": "python",
   "pygments_lexer": "ipython3",
   "version": "3.9.7"
  }
 },
 "nbformat": 4,
 "nbformat_minor": 5
}
