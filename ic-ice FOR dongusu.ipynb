{
 "cells": [
  {
   "cell_type": "code",
   "execution_count": 1,
   "id": "9edae96f",
   "metadata": {},
   "outputs": [
    {
     "name": "stdout",
     "output_type": "stream",
     "text": [
      "susan  is  happy\n",
      "susan  is  sad\n",
      "tom  is  happy\n",
      "tom  is  sad\n",
      "edward  is  happy\n",
      "edward  is  sad\n"
     ]
    }
   ],
   "source": [
    "names = ['susan','tom','edward']\n",
    "mood = ['happy','sad']\n",
    "for i in names:\n",
    "    for m in mood:\n",
    "        print(i, ' is ',m )"
   ]
  },
  {
   "cell_type": "code",
   "execution_count": null,
   "id": "b845aff3",
   "metadata": {},
   "outputs": [],
   "source": []
  }
 ],
 "metadata": {
  "kernelspec": {
   "display_name": "Python 3 (ipykernel)",
   "language": "python",
   "name": "python3"
  },
  "language_info": {
   "codemirror_mode": {
    "name": "ipython",
    "version": 3
   },
   "file_extension": ".py",
   "mimetype": "text/x-python",
   "name": "python",
   "nbconvert_exporter": "python",
   "pygments_lexer": "ipython3",
   "version": "3.9.7"
  }
 },
 "nbformat": 4,
 "nbformat_minor": 5
}
