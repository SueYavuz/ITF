{
 "cells": [
  {
   "cell_type": "code",
   "execution_count": 9,
   "id": "4652b819",
   "metadata": {},
   "outputs": [
    {
     "data": {
      "text/plain": [
       "'/Users/sueyavuz/CLARUSWAY/PYTHON/PYTHON_Plus'"
      ]
     },
     "execution_count": 9,
     "metadata": {},
     "output_type": "execute_result"
    }
   ],
   "source": [
    "pwd"
   ]
  },
  {
   "cell_type": "code",
   "execution_count": 12,
   "id": "c45d6519",
   "metadata": {},
   "outputs": [],
   "source": [
    "file = open('fishes.txt', 'r')\n",
    "file.close()"
   ]
  },
  {
   "cell_type": "code",
   "execution_count": 11,
   "id": "70ea349e",
   "metadata": {},
   "outputs": [
    {
     "name": "stdout",
     "output_type": "stream",
     "text": [
      "Orca is a kind of Dolphin.\n",
      "Blue Whale is the largest animal known on earth.\n",
      "Sharks are the sister group to the Rays (batoids).\n",
      "The Tuna Fish can weigh up to 260 kg.\n",
      "Squid and Octopus are in the same class.\n",
      "\n"
     ]
    },
    {
     "data": {
      "text/plain": [
       "<function TextIOWrapper.close()>"
      ]
     },
     "execution_count": 11,
     "metadata": {},
     "output_type": "execute_result"
    }
   ],
   "source": [
    "sea = open('fishes.txt', 'r')\n",
    "print(sea.read())\n",
    "sea.close"
   ]
  },
  {
   "cell_type": "code",
   "execution_count": 13,
   "id": "6a6dece6",
   "metadata": {},
   "outputs": [
    {
     "name": "stdout",
     "output_type": "stream",
     "text": [
      "Orca is a kind of Dolphin.\n",
      "Blue W\n"
     ]
    },
    {
     "data": {
      "text/plain": [
       "<function TextIOWrapper.close()>"
      ]
     },
     "execution_count": 13,
     "metadata": {},
     "output_type": "execute_result"
    }
   ],
   "source": [
    "sea = open('fishes.txt', 'r')\n",
    "print(sea.read(33))  #33. karaktere kadar olan yaziyi yazdi ve bitti.\n",
    "sea.close"
   ]
  },
  {
   "cell_type": "code",
   "execution_count": 16,
   "id": "41b2a905",
   "metadata": {},
   "outputs": [
    {
     "name": "stdout",
     "output_type": "stream",
     "text": [
      "I want to sing\n",
      "like the birds sing,\n",
      "not worrying about\n",
      "who hears or\n",
      "what they think.\n",
      "\n",
      "\n",
      "86\n",
      "0\n",
      "\n",
      "I want to sing\n",
      "like the birds sing,\n"
     ]
    }
   ],
   "source": [
    "rumi = open('rumi.txt')\n",
    "\n",
    "print(rumi.read())\n",
    "print(rumi.tell())\n",
    "rumi.seek(0)\n",
    "print(rumi.tell())\n",
    "print()\n",
    "print(rumi.read(35))"
   ]
  },
  {
   "cell_type": "code",
   "execution_count": 20,
   "id": "84ea19c0",
   "metadata": {},
   "outputs": [
    {
     "name": "stdout",
     "output_type": "stream",
     "text": [
      "I want to sing\n",
      "\n",
      "15\n",
      "like the birds sing,\n",
      "\n",
      "36\n",
      "not worrying about\n",
      "\n",
      "55\n"
     ]
    }
   ],
   "source": [
    "rumi = open('rumi.txt')\n",
    "\n",
    "print(rumi.readline())\n",
    "print(rumi.tell())\n",
    "print(rumi.readline())\n",
    "print(rumi.tell())\n",
    "print(rumi.readline())\n",
    "print(rumi.tell())\n",
    "\n",
    "rumi.close()"
   ]
  },
  {
   "cell_type": "code",
   "execution_count": 22,
   "id": "18561df3",
   "metadata": {},
   "outputs": [
    {
     "name": "stdout",
     "output_type": "stream",
     "text": [
      "I want to sin\n",
      "g\n",
      "\n",
      "like the bird\n"
     ]
    }
   ],
   "source": [
    "rumi = open('rumi.txt')\n",
    "\n",
    "print(rumi.readline(13))\n",
    "print(rumi.readline(13))\n",
    "print(rumi.readline(13))"
   ]
  },
  {
   "cell_type": "code",
   "execution_count": 26,
   "id": "4dd5dde0",
   "metadata": {},
   "outputs": [
    {
     "name": "stdout",
     "output_type": "stream",
     "text": [
      "Orca is a kind of Dolphin.\n",
      "Blue Whale is the largest animal known on earth.\n",
      "Sharks are the sister group to the Rays (batoids).\n",
      "The Tuna Fish can weigh up to 260 kg.\n",
      "Squid and Octopus are in the same class.\n",
      "\n",
      "\n",
      "Orca is a kin\n",
      "d of Dolphin.\n",
      "\n",
      "\n",
      "Blue Whale is\n"
     ]
    }
   ],
   "source": [
    "sea = open('fishes.txt', 'r')\n",
    "print(sea.read())\n",
    "sea.seek(0)\n",
    "print()\n",
    "print(sea.readline(13))\n",
    "print(sea.readline(13))\n",
    "print(sea.readline(198)) #satirlarin sonunda bydefault /n karakteri oldugu\n",
    "print(sea.readline(13)) #icin boslugu bos satir olarak veriyor.\n",
    "\n",
    "sea.close()"
   ]
  },
  {
   "cell_type": "code",
   "execution_count": 27,
   "id": "37ae2406",
   "metadata": {},
   "outputs": [
    {
     "name": "stdout",
     "output_type": "stream",
     "text": [
      "Orca is a kind of Dolphin.\n",
      "\n",
      "Blue Whale is the largest animal known on earth.\n",
      "\n",
      "Sharks are the sister group to the Rays (batoids).\n",
      "\n",
      "127\n"
     ]
    }
   ],
   "source": [
    "sea = open('fishes.txt', 'r')\n",
    "\n",
    "print(sea.readline())\n",
    "print(sea.readline())\n",
    "print(sea.readline())\n",
    "print(sea.tell())"
   ]
  },
  {
   "cell_type": "code",
   "execution_count": 30,
   "id": "aa20bd2b",
   "metadata": {},
   "outputs": [
    {
     "name": "stdout",
     "output_type": "stream",
     "text": [
      "I want to sing\n",
      "\n",
      "like the birds sing,\n",
      "\n",
      "not worrying about\n",
      "\n",
      "55\n"
     ]
    }
   ],
   "source": [
    "rumi = open('rumi.txt')\n",
    "print(rumi.readline())\n",
    "print(rumi.readline())\n",
    "print(rumi.readline())\n",
    "print(rumi.tell())\n",
    "\n",
    "rumi.close() #kapatmassak bir sonrakinde calismaya devam ediyor.\n"
   ]
  },
  {
   "cell_type": "code",
   "execution_count": 31,
   "id": "4a7a5fc6",
   "metadata": {},
   "outputs": [
    {
     "name": "stdout",
     "output_type": "stream",
     "text": [
      "['Orca is a kind of Dolphin.\\n', 'Blue Whale is the largest animal known on earth.\\n', 'Sharks are the sister group to the Rays (batoids).\\n', 'The Tuna Fish can weigh up to 260 kg.\\n', 'Squid and Octopus are in the same class.\\n']\n"
     ]
    }
   ],
   "source": [
    "sea = open('fishes.txt', 'r')\n",
    "\n",
    "print(sea.readlines())\n",
    "\n",
    "sea.close()"
   ]
  },
  {
   "cell_type": "code",
   "execution_count": null,
   "id": "2b5ab04e",
   "metadata": {},
   "outputs": [],
   "source": []
  }
 ],
 "metadata": {
  "kernelspec": {
   "display_name": "Python 3 (ipykernel)",
   "language": "python",
   "name": "python3"
  },
  "language_info": {
   "codemirror_mode": {
    "name": "ipython",
    "version": 3
   },
   "file_extension": ".py",
   "mimetype": "text/x-python",
   "name": "python",
   "nbconvert_exporter": "python",
   "pygments_lexer": "ipython3",
   "version": "3.9.7"
  }
 },
 "nbformat": 4,
 "nbformat_minor": 5
}
