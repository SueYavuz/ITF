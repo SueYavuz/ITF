{
 "cells": [
  {
   "cell_type": "code",
   "execution_count": null,
   "id": "ee0b94d3",
   "metadata": {},
   "outputs": [],
   "source": [
    "#Write a while loop that lets the user enter a number.\n",
    "#The number should be multiplied by 5 and the result stored in the variable product.\n",
    "#The loop should iterate as long as the product contains a value less than 50."
   ]
  },
  {
   "cell_type": "code",
   "execution_count": 1,
   "id": "a544bb74",
   "metadata": {},
   "outputs": [
    {
     "name": "stdout",
     "output_type": "stream",
     "text": [
      "Write the stock of the product: 3\n",
      "Write the stock of the product: 3\n",
      "Write the stock of the product: 4\n",
      "Write the stock of the product: 5\n",
      "The total quantity of product is  75\n"
     ]
    }
   ],
   "source": [
    "total = 0 \n",
    "\n",
    "while total <= 50:\n",
    "    inp1 = int(input(\"Write the stock of the product: \"))\n",
    "    total = total + inp1*5\n",
    "    \n",
    "print(\"The total quantity of product is \", total)\n",
    "    "
   ]
  },
  {
   "cell_type": "code",
   "execution_count": null,
   "id": "e935b024",
   "metadata": {},
   "outputs": [],
   "source": []
  },
  {
   "cell_type": "code",
   "execution_count": null,
   "id": "052ed09a",
   "metadata": {},
   "outputs": [],
   "source": []
  }
 ],
 "metadata": {
  "kernelspec": {
   "display_name": "Python 3 (ipykernel)",
   "language": "python",
   "name": "python3"
  },
  "language_info": {
   "codemirror_mode": {
    "name": "ipython",
    "version": 3
   },
   "file_extension": ".py",
   "mimetype": "text/x-python",
   "name": "python",
   "nbconvert_exporter": "python",
   "pygments_lexer": "ipython3",
   "version": "3.9.7"
  }
 },
 "nbformat": 4,
 "nbformat_minor": 5
}
