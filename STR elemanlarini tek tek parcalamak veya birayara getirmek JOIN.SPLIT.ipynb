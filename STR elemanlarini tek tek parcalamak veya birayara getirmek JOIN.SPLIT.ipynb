{
 "cells": [
  {
   "cell_type": "code",
   "execution_count": 1,
   "id": "cad0451f",
   "metadata": {},
   "outputs": [],
   "source": [
    "aas = 'ALA TYR TRP SER GLY'"
   ]
  },
  {
   "cell_type": "code",
   "execution_count": 2,
   "id": "0cc402fe",
   "metadata": {},
   "outputs": [
    {
     "data": {
      "text/plain": [
       "['ALA', 'TYR', 'TRP', 'SER', 'GLY']"
      ]
     },
     "execution_count": 2,
     "metadata": {},
     "output_type": "execute_result"
    }
   ],
   "source": [
    "n = aas.split()\n",
    "n"
   ]
  },
  {
   "cell_type": "code",
   "execution_count": 3,
   "id": "9d527710",
   "metadata": {},
   "outputs": [
    {
     "data": {
      "text/plain": [
       "'ALA TYR TRP SER GLY'"
      ]
     },
     "execution_count": 3,
     "metadata": {},
     "output_type": "execute_result"
    }
   ],
   "source": [
    "' '.join(n)"
   ]
  },
  {
   "cell_type": "code",
   "execution_count": null,
   "id": "148c9c67",
   "metadata": {},
   "outputs": [],
   "source": [
    "kucuk_harfler = {}\n",
    "buyuk_harfle = {}\n",
    "\n",
    "kelime=input('iki karekter giriniz: ')\n",
    "\n",
    "\n"
   ]
  },
  {
   "cell_type": "code",
   "execution_count": 6,
   "id": "ad30bb74",
   "metadata": {},
   "outputs": [
    {
     "ename": "AttributeError",
     "evalue": "'builtin_function_or_method' object has no attribute 'issubset'",
     "output_type": "error",
     "traceback": [
      "\u001b[0;31m---------------------------------------------------------------------------\u001b[0m",
      "\u001b[0;31mAttributeError\u001b[0m                            Traceback (most recent call last)",
      "\u001b[0;32m/var/folders/wk/n0rjrcc539b8hl_lgc074gsm0000gn/T/ipykernel_10136/3367605684.py\u001b[0m in \u001b[0;36m<module>\u001b[0;34m\u001b[0m\n\u001b[0;32m----> 1\u001b[0;31m \u001b[0mdir\u001b[0m\u001b[0;34m.\u001b[0m\u001b[0missubset\u001b[0m\u001b[0;34m(\u001b[0m\u001b[0;34m)\u001b[0m\u001b[0;34m\u001b[0m\u001b[0;34m\u001b[0m\u001b[0m\n\u001b[0m",
      "\u001b[0;31mAttributeError\u001b[0m: 'builtin_function_or_method' object has no attribute 'issubset'"
     ]
    }
   ],
   "source": [
    "dir.issubset()"
   ]
  },
  {
   "cell_type": "code",
   "execution_count": null,
   "id": "6820d085",
   "metadata": {},
   "outputs": [],
   "source": []
  },
  {
   "cell_type": "code",
   "execution_count": null,
   "id": "09ad2fd6",
   "metadata": {},
   "outputs": [],
   "source": []
  },
  {
   "cell_type": "code",
   "execution_count": null,
   "id": "76ae553a",
   "metadata": {},
   "outputs": [],
   "source": []
  }
 ],
 "metadata": {
  "kernelspec": {
   "display_name": "Python 3 (ipykernel)",
   "language": "python",
   "name": "python3"
  },
  "language_info": {
   "codemirror_mode": {
    "name": "ipython",
    "version": 3
   },
   "file_extension": ".py",
   "mimetype": "text/x-python",
   "name": "python",
   "nbconvert_exporter": "python",
   "pygments_lexer": "ipython3",
   "version": "3.9.7"
  }
 },
 "nbformat": 4,
 "nbformat_minor": 5
}
