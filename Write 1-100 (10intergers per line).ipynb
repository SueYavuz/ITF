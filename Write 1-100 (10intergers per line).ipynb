{
 "cells": [
  {
   "cell_type": "code",
   "execution_count": null,
   "id": "31fa0293",
   "metadata": {},
   "outputs": [],
   "source": [
    "#Write a set of stataments to accomplish each of the following tasks: \n",
    "#Print the integers from 1-100, using a while looop and counter variable x. \n",
    "#print only 10 integers per line."
   ]
  },
  {
   "cell_type": "code",
   "execution_count": 1,
   "id": "e0e2f281",
   "metadata": {},
   "outputs": [
    {
     "name": "stdout",
     "output_type": "stream",
     "text": [
      "100\t99\t98\t97\t96\t95\t94\t93\t92\t91\n",
      "90\t89\t88\t87\t86\t85\t84\t83\t82\t81\n",
      "80\t79\t78\t77\t76\t75\t74\t73\t72\t71\n",
      "70\t69\t68\t67\t66\t65\t64\t63\t62\t61\n",
      "60\t59\t58\t57\t56\t55\t54\t53\t52\t51\n",
      "50\t49\t48\t47\t46\t45\t44\t43\t42\t41\n",
      "40\t39\t38\t37\t36\t35\t34\t33\t32\t31\n",
      "30\t29\t28\t27\t26\t25\t24\t23\t22\t21\n",
      "20\t19\t18\t17\t16\t15\t14\t13\t12\t11\n",
      "10\t9\t8\t7\t6\t5\t4\t3\t2\t1\n"
     ]
    }
   ],
   "source": [
    "count = 100\n",
    "\n",
    "while count > 0:\n",
    "    if count % 10 ==1:\n",
    "        print(count)\n",
    "    else:\n",
    "        print(count, end=\"\\t\")\n",
    "    count -= 1\n",
    "    "
   ]
  },
  {
   "cell_type": "code",
   "execution_count": 3,
   "id": "770f1db2",
   "metadata": {},
   "outputs": [
    {
     "name": "stdout",
     "output_type": "stream",
     "text": [
      "0\t1\t2\t3\t4\t5\t6\t7\t8\t9\n",
      "10\t11\t12\t13\t14\t15\t16\t17\t18\t19\n",
      "20\t21\t22\t23\t24\t25\t26\t27\t28\t29\n",
      "30\t31\t32\t33\t34\t35\t36\t37\t38\t39\n",
      "40\t41\t42\t43\t44\t45\t46\t47\t48\t49\n",
      "50\t51\t52\t53\t54\t55\t56\t57\t58\t59\n",
      "60\t61\t62\t63\t64\t65\t66\t67\t68\t69\n",
      "70\t71\t72\t73\t74\t75\t76\t77\t78\t79\n",
      "80\t81\t82\t83\t84\t85\t86\t87\t88\t89\n",
      "90\t91\t92\t93\t94\t95\t96\t97\t98\t99\n"
     ]
    }
   ],
   "source": [
    "count = 0\n",
    "\n",
    "while count < 100:\n",
    "    if count % 10 ==9:\n",
    "        print(count)\n",
    "    else:\n",
    "        print(count, end=\"\\t\")\n",
    "    count += 1"
   ]
  },
  {
   "cell_type": "code",
   "execution_count": null,
   "id": "ec3520d9",
   "metadata": {},
   "outputs": [],
   "source": []
  }
 ],
 "metadata": {
  "kernelspec": {
   "display_name": "Python 3 (ipykernel)",
   "language": "python",
   "name": "python3"
  },
  "language_info": {
   "codemirror_mode": {
    "name": "ipython",
    "version": 3
   },
   "file_extension": ".py",
   "mimetype": "text/x-python",
   "name": "python",
   "nbconvert_exporter": "python",
   "pygments_lexer": "ipython3",
   "version": "3.9.7"
  }
 },
 "nbformat": 4,
 "nbformat_minor": 5
}
