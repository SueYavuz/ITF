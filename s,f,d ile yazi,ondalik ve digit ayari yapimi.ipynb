{
 "cells": [
  {
   "cell_type": "code",
   "execution_count": 1,
   "id": "f9a6b8a1",
   "metadata": {},
   "outputs": [
    {
     "name": "stdout",
     "output_type": "stream",
     "text": [
      "welcome   #"
     ]
    }
   ],
   "source": [
    "print(\"{:10s}\".format(\"welcome\"), end='#')\n"
   ]
  },
  {
   "cell_type": "code",
   "execution_count": 2,
   "id": "900b21e7",
   "metadata": {},
   "outputs": [
    {
     "name": "stdout",
     "output_type": "stream",
     "text": [
      "       111\n"
     ]
    }
   ],
   "source": [
    "print(\"{:10d}\".format(111))"
   ]
  },
  {
   "cell_type": "code",
   "execution_count": 3,
   "id": "ac45fa74",
   "metadata": {},
   "outputs": [
    {
     "name": "stdout",
     "output_type": "stream",
     "text": [
      "67654.87600\n"
     ]
    }
   ],
   "source": [
    "print(\"{:3.5f}\".format(67654.876))"
   ]
  },
  {
   "cell_type": "code",
   "execution_count": 6,
   "id": "1fe1b0a6",
   "metadata": {},
   "outputs": [
    {
     "name": "stdout",
     "output_type": "stream",
     "text": [
      "67654.88\n"
     ]
    }
   ],
   "source": [
    "print(\"{:3.2f}\".format(67654.876))"
   ]
  },
  {
   "cell_type": "code",
   "execution_count": null,
   "id": "0ea7151a",
   "metadata": {},
   "outputs": [],
   "source": []
  }
 ],
 "metadata": {
  "kernelspec": {
   "display_name": "Python 3 (ipykernel)",
   "language": "python",
   "name": "python3"
  },
  "language_info": {
   "codemirror_mode": {
    "name": "ipython",
    "version": 3
   },
   "file_extension": ".py",
   "mimetype": "text/x-python",
   "name": "python",
   "nbconvert_exporter": "python",
   "pygments_lexer": "ipython3",
   "version": "3.9.7"
  }
 },
 "nbformat": 4,
 "nbformat_minor": 5
}
