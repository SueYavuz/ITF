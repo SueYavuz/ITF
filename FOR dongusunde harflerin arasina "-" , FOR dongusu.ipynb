{
 "cells": [
  {
   "cell_type": "code",
   "execution_count": 1,
   "id": "f7bd0ba9",
   "metadata": {},
   "outputs": [
    {
     "name": "stdout",
     "output_type": "stream",
     "text": [
      "give me a word: hello\n",
      "h-e-l-l-o"
     ]
    }
   ],
   "source": [
    "word = str(input('give me a word: '))\n",
    "\n",
    "counter = 0\n",
    "for i in word:\n",
    "    counter += 1\n",
    "    \n",
    "    if counter < len(word):\n",
    "        i += '-'\n",
    "    \n",
    "    print(i, end='')"
   ]
  },
  {
   "cell_type": "code",
   "execution_count": null,
   "id": "d46ace4e",
   "metadata": {},
   "outputs": [],
   "source": [
    "var = 'Clarusway'\n",
    "for i in var:\n",
    "    #print(i)\n",
    "    \n",
    "    a = i.lower()\n",
    "    print(a)"
   ]
  },
  {
   "cell_type": "code",
   "execution_count": null,
   "id": "c975231e",
   "metadata": {},
   "outputs": [],
   "source": [
    "#TypeError: 'int' object is not iterable\n",
    "\n",
    "\n",
    "for i in 5:\n",
    "    print(5)"
   ]
  },
  {
   "cell_type": "code",
   "execution_count": null,
   "id": "bc648b59",
   "metadata": {},
   "outputs": [],
   "source": [
    "numbers = []\n",
    "\n",
    "for i in range(1,6):\n",
    "    numbers.append(i)\n",
    "print(numbers)"
   ]
  },
  {
   "cell_type": "code",
   "execution_count": null,
   "id": "b9e6894f",
   "metadata": {},
   "outputs": [],
   "source": [
    "names = ['ahmet', 'ayse', 'adam', 'joseph', 'gabriel']\n",
    "for i in names:\n",
    "    print(f'hello {i.title()}')"
   ]
  },
  {
   "cell_type": "code",
   "execution_count": 2,
   "id": "6096944e",
   "metadata": {},
   "outputs": [
    {
     "name": "stdout",
     "output_type": "stream",
     "text": [
      "1\n",
      "22\n",
      "333\n",
      "4444\n",
      "55555\n",
      "666666\n",
      "7777777\n",
      "88888888\n",
      "999999999\n"
     ]
    }
   ],
   "source": [
    "for i in range(1,10):\n",
    "    print(str(i)*i)"
   ]
  },
  {
   "cell_type": "code",
   "execution_count": 4,
   "id": "6689aacc",
   "metadata": {},
   "outputs": [
    {
     "name": "stdout",
     "output_type": "stream",
     "text": [
      "[0, 1, 2, 3, 4, 5, 6, 7, 8, 9, 10]\n"
     ]
    }
   ],
   "source": [
    "b = list(range(11))\n",
    "print(b)"
   ]
  },
  {
   "cell_type": "code",
   "execution_count": null,
   "id": "255404f1",
   "metadata": {},
   "outputs": [],
   "source": []
  },
  {
   "cell_type": "code",
   "execution_count": null,
   "id": "a60f5804",
   "metadata": {},
   "outputs": [],
   "source": []
  }
 ],
 "metadata": {
  "kernelspec": {
   "display_name": "Python 3 (ipykernel)",
   "language": "python",
   "name": "python3"
  },
  "language_info": {
   "codemirror_mode": {
    "name": "ipython",
    "version": 3
   },
   "file_extension": ".py",
   "mimetype": "text/x-python",
   "name": "python",
   "nbconvert_exporter": "python",
   "pygments_lexer": "ipython3",
   "version": "3.9.7"
  }
 },
 "nbformat": 4,
 "nbformat_minor": 5
}
