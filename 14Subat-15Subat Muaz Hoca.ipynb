{
 "cells": [
  {
   "cell_type": "code",
   "execution_count": 4,
   "id": "51b58537",
   "metadata": {},
   "outputs": [
    {
     "name": "stdout",
     "output_type": "stream",
     "text": [
      "type a word: ghgh\n",
      "4\n"
     ]
    }
   ],
   "source": [
    "\n",
    "def string_length():\n",
    "    return (len(str(input('type a word: '))))\n",
    "    \n",
    "\n",
    "print(string_length())"
   ]
  },
  {
   "cell_type": "code",
   "execution_count": 5,
   "id": "c9dddb54",
   "metadata": {},
   "outputs": [
    {
     "name": "stdout",
     "output_type": "stream",
     "text": [
      "Lutfen bir sayi girin3\n",
      "yazdiginiz sayi tek sayidir\n"
     ]
    }
   ],
   "source": [
    "sayi = int(input('Lutfen bir sayi girin'))\n",
    "\n",
    "if sayi%2==0:\n",
    "    print('yazdiginiz sayi cift sayidir. ')\n",
    "else:\n",
    "    print('yazdiginiz sayi tek sayidir')"
   ]
  },
  {
   "cell_type": "code",
   "execution_count": 9,
   "id": "2b427688",
   "metadata": {},
   "outputs": [
    {
     "name": "stdout",
     "output_type": "stream",
     "text": [
      "Lutfen bir sayi girin: 898\n",
      "yazdiginiz sayi pozitif\n"
     ]
    }
   ],
   "source": [
    "sayi = int(input('Lutfen bir sayi girin: '))\n",
    "if sayi>0:\n",
    "    print('yazdiginiz sayi pozitif')\n",
    "elif sayi<0:\n",
    "    print('yazdiginiz sayi negatif bir sayidir.')\n",
    "else:\n",
    "    print('yazdiginiz sayi 0 dir')\n"
   ]
  },
  {
   "cell_type": "code",
   "execution_count": 12,
   "id": "f59e8e97",
   "metadata": {},
   "outputs": [
    {
     "ename": "SyntaxError",
     "evalue": "invalid syntax (64630664.py, line 7)",
     "output_type": "error",
     "traceback": [
      "\u001b[0;36m  File \u001b[0;32m\"/var/folders/wk/n0rjrcc539b8hl_lgc074gsm0000gn/T/ipykernel_872/64630664.py\"\u001b[0;36m, line \u001b[0;32m7\u001b[0m\n\u001b[0;31m    if endeks < 18.5:\u001b[0m\n\u001b[0m                    ^\u001b[0m\n\u001b[0;31mSyntaxError\u001b[0m\u001b[0;31m:\u001b[0m invalid syntax\n"
     ]
    }
   ],
   "source": [
    "#boy = int(input('Lutfen bir boyunuzu girin'))\n",
    "#kilo = int(input('Lutfen kilonuzu girin'))\n",
    "boy = 160\n",
    "kilo = 60\n",
    "endeks = round((kilo/(boy**2),2)\n",
    "\n",
    "if endeks < 18.5:\n",
    "    print(f'endeksiniz {endeks} sartlariniz kilonuz uyumlu')\n",
    "elif endeks < 24.5 and endeks >=18.5:\n",
    "    print(f'endeksiniz {endeks} sartlara gore fazla')\n",
    "               \n",
    "            \n",
    "            \n",
    "\n"
   ]
  },
  {
   "cell_type": "code",
   "execution_count": 14,
   "id": "1a089e26",
   "metadata": {},
   "outputs": [
    {
     "name": "stdout",
     "output_type": "stream",
     "text": [
      "adinizi yazinizsue\n",
      "yasinizi yaziniz35\n",
      "Egitim seviyenizi yazinizuniversite\n",
      "ehliyet alabilirsin\n"
     ]
    }
   ],
   "source": [
    "name = input(\"adinizi yaziniz\")\n",
    "yas = int(input(\"yasinizi yaziniz\"))\n",
    "egitim =input(\"Egitim seviyenizi yaziniz\")\n",
    "egitim2 =[\"ortaolul\",\"lise\", \"universite\"]\n",
    "\n",
    "if yas >=18 and (egitim in egitim2):\n",
    "    print(\"ehliyet alabilirsin\")\n",
    "elif yas >=18 and (egitim not in egitim2): \n",
    "    print(\"egitim seviyen uygun degil ehliyet alamzsin\")\n",
    "elif yas < 18 and (egitim in egitim2):\n",
    "    print('ehliyet icin yasin tutmuyor')\n",
    "else:\n",
    "    print(\"tekrar dene\")\n",
    "\n",
    "\n"
   ]
  },
  {
   "cell_type": "code",
   "execution_count": 17,
   "id": "f5b02b9a",
   "metadata": {},
   "outputs": [
    {
     "name": "stdout",
     "output_type": "stream",
     "text": [
      "1\n",
      "2\n",
      "3\n",
      "4\n",
      "5\n",
      "6\n",
      "7\n",
      "8\n",
      "9\n"
     ]
    }
   ],
   "source": [
    "for i in range(1,10):\n",
    "    print(i)"
   ]
  },
  {
   "cell_type": "code",
   "execution_count": 19,
   "id": "e3409445",
   "metadata": {},
   "outputs": [
    {
     "name": "stdout",
     "output_type": "stream",
     "text": [
      "rose\n",
      "orchid\n",
      "tulip\n"
     ]
    }
   ],
   "source": [
    "flowers = ['rose', 'orchid', 'tulip']\n",
    "count1 = len(flowers)\n",
    "count2 = 0\n",
    "\n",
    "while count1 > 0:\n",
    "    print(flowers[count2])\n",
    "    count1 -= 1\n",
    "    count2 += 1\n"
   ]
  },
  {
   "cell_type": "code",
   "execution_count": 10,
   "id": "dd2a530c",
   "metadata": {},
   "outputs": [
    {
     "name": "stdout",
     "output_type": "stream",
     "text": [
      "rose\n",
      "orchid\n",
      "tulip\n"
     ]
    }
   ],
   "source": [
    "#while yerine for dondurduk........\n",
    "\n",
    "flowers = ['rose', 'orchid', 'tulip']\n",
    "for i in flowers:\n",
    "    print(i)"
   ]
  },
  {
   "cell_type": "code",
   "execution_count": 22,
   "id": "0fdb5929",
   "metadata": {},
   "outputs": [
    {
     "name": "stdout",
     "output_type": "stream",
     "text": [
      "1\n",
      "3\n",
      "5\n",
      "7\n",
      "9\n",
      "11\n",
      "13\n",
      "15\n",
      "17\n",
      "19\n",
      "21\n",
      "23\n",
      "25\n",
      "27\n",
      "29\n",
      "31\n",
      "33\n",
      "35\n",
      "37\n",
      "39\n",
      "41\n",
      "43\n",
      "45\n",
      "47\n",
      "49\n",
      "51\n",
      "53\n",
      "55\n",
      "57\n",
      "59\n",
      "61\n",
      "63\n",
      "65\n",
      "67\n",
      "69\n",
      "71\n",
      "73\n",
      "75\n",
      "77\n",
      "79\n",
      "81\n",
      "83\n",
      "85\n",
      "87\n",
      "89\n",
      "91\n",
      "93\n",
      "95\n",
      "97\n",
      "99\n"
     ]
    }
   ],
   "source": [
    "#soru- 1-100 arasinda tek sayilar \n",
    "for i in range(1,101):\n",
    "    if i%2!=0:\n",
    "        print(i)\n",
    "    #elif i%2 ==0:\n",
    "       # print(i)\n",
    "    "
   ]
  },
  {
   "cell_type": "code",
   "execution_count": 23,
   "id": "4f841eea",
   "metadata": {},
   "outputs": [
    {
     "name": "stdout",
     "output_type": "stream",
     "text": [
      "2\n",
      "4\n",
      "6\n",
      "8\n",
      "10\n",
      "12\n",
      "14\n",
      "16\n",
      "18\n",
      "20\n",
      "22\n",
      "24\n",
      "26\n",
      "28\n",
      "30\n",
      "32\n",
      "34\n",
      "36\n",
      "38\n",
      "40\n",
      "42\n",
      "44\n",
      "46\n",
      "48\n",
      "50\n",
      "52\n",
      "54\n",
      "56\n",
      "58\n",
      "60\n",
      "62\n",
      "64\n",
      "66\n",
      "68\n",
      "70\n",
      "72\n",
      "74\n",
      "76\n",
      "78\n",
      "80\n",
      "82\n",
      "84\n",
      "86\n",
      "88\n",
      "90\n",
      "92\n",
      "94\n",
      "96\n",
      "98\n",
      "100\n"
     ]
    }
   ],
   "source": [
    "# 1-100 cift sayilar\n",
    "for i in range(1,101):\n",
    "    if i%2==0:\n",
    "        print(i)"
   ]
  },
  {
   "cell_type": "code",
   "execution_count": 25,
   "id": "6c7d3086",
   "metadata": {},
   "outputs": [
    {
     "name": "stdout",
     "output_type": "stream",
     "text": [
      "15 yazdiginiz sayi 3 ve 5 e tam bolunur\n",
      "30 yazdiginiz sayi 3 ve 5 e tam bolunur\n",
      "45 yazdiginiz sayi 3 ve 5 e tam bolunur\n",
      "60 yazdiginiz sayi 3 ve 5 e tam bolunur\n",
      "75 yazdiginiz sayi 3 ve 5 e tam bolunur\n",
      "90 yazdiginiz sayi 3 ve 5 e tam bolunur\n"
     ]
    }
   ],
   "source": [
    "#1-100 arasinda 3 ve 5 bolunen sorular\n",
    "for i in range(1,101):\n",
    "    if i%3==0 and i%5==0:\n",
    "        print(i,'yazdiginiz sayi 3 ve 5 e tam bolunur')"
   ]
  },
  {
   "cell_type": "code",
   "execution_count": 27,
   "id": "b84a6726",
   "metadata": {},
   "outputs": [
    {
     "name": "stdout",
     "output_type": "stream",
     "text": [
      "lutfen bir sayi giriniz44\n",
      "1\n",
      "2\n",
      "3\n",
      "4\n",
      "5\n",
      "6\n",
      "7\n",
      "8\n",
      "9\n",
      "10\n",
      "11\n",
      "12\n",
      "13\n",
      "14\n",
      "15\n",
      "16\n",
      "17\n",
      "18\n",
      "19\n",
      "20\n",
      "21\n",
      "22\n",
      "23\n",
      "24\n",
      "25\n",
      "26\n",
      "27\n",
      "28\n",
      "29\n",
      "30\n",
      "31\n",
      "32\n",
      "33\n",
      "34\n",
      "35\n",
      "36\n",
      "37\n",
      "38\n",
      "39\n",
      "40\n",
      "41\n",
      "42\n",
      "43\n"
     ]
    }
   ],
   "source": [
    "#1 den kullanicin verdigi sayilari yaz\n",
    "sayi = int(input('lutfen bir sayi giriniz'))\n",
    "for i in range(1,sayi):\n",
    "    print(i)"
   ]
  },
  {
   "cell_type": "code",
   "execution_count": 3,
   "id": "4cb21d78",
   "metadata": {},
   "outputs": [
    {
     "name": "stdout",
     "output_type": "stream",
     "text": [
      "sayi giriniz6\n",
      "sayi giriniz4\n",
      "yazdiginiz sayilarla dikdortgenin alani 24 ve cevresi 20 dir\n"
     ]
    }
   ],
   "source": [
    "#kenarlari girilen dikdortgen cevresi\n",
    "sayi1 = int(input('sayi giriniz'))\n",
    "sayi2 = int(input('sayi giriniz'))\n",
    "alan = round((sayi1*sayi2),2)\n",
    "cevre = 2*(sayi1+sayi2)\n",
    "print(f\"yazdiginiz sayilarla dikdortgenin alani {alan} ve cevresi {cevre} dir\")"
   ]
  },
  {
   "cell_type": "code",
   "execution_count": 1,
   "id": "1bbeb2e5",
   "metadata": {},
   "outputs": [
    {
     "name": "stdout",
     "output_type": "stream",
     "text": [
      "sayi giriniz66\n",
      "sayi giriniz77\n"
     ]
    }
   ],
   "source": [
    "sayi1 = int(input('sayi giriniz'))\n",
    "sayi2 = int(input('sayi giriniz'))"
   ]
  },
  {
   "cell_type": "code",
   "execution_count": 8,
   "id": "4083a29d",
   "metadata": {},
   "outputs": [
    {
     "name": "stdout",
     "output_type": "stream",
     "text": [
      "h\n",
      "a\n",
      "t\n",
      "i\n",
      "c\n",
      "e\n",
      "adini ekrana yazdim\n"
     ]
    }
   ],
   "source": [
    "#girilen ogregin harflerini alt aLTA yazalim\n",
    "name = 'hatice'\n",
    "sayac = 0 \n",
    "while sayac < len(name):\n",
    "    print(name[sayac])\n",
    "    sayac +=1\n",
    "print(\"adini ekrana yazdim\")\n",
    "    "
   ]
  },
  {
   "cell_type": "code",
   "execution_count": 9,
   "id": "413b8847",
   "metadata": {},
   "outputs": [
    {
     "name": "stdout",
     "output_type": "stream",
     "text": [
      "I will stop smoking 3\n",
      "I will stop smoking 6\n",
      "I will stop smoking 9\n",
      "I will stop smoking 12\n",
      "I will stop smoking 15\n"
     ]
    }
   ],
   "source": [
    "a = 3\n",
    "while a**2 < 299:\n",
    "    print('I will stop smoking', a)\n",
    "    a +=3"
   ]
  },
  {
   "cell_type": "code",
   "execution_count": 12,
   "id": "40e52a7d",
   "metadata": {},
   "outputs": [
    {
     "name": "stdout",
     "output_type": "stream",
     "text": [
      "sayi giriniz2\n",
      "sayi giriniz66\n",
      "2144\n"
     ]
    }
   ],
   "source": [
    "#kullanicinin girdigi 2 sayiyi arasindaki sayilarin toplami\n",
    "sayi1 = int(input(\"sayi giriniz\"))\n",
    "sayi2 = int(input(\"sayi giriniz\"))\n",
    "toplam = 0 \n",
    "\n",
    "for i in range(sayi1,sayi2):\n",
    "    toplam += i\n",
    "\n",
    "print(toplam)"
   ]
  },
  {
   "cell_type": "code",
   "execution_count": 14,
   "id": "e470f7b0",
   "metadata": {},
   "outputs": [
    {
     "name": "stdout",
     "output_type": "stream",
     "text": [
      "2\n",
      "1\n"
     ]
    }
   ],
   "source": [
    "print(True +1)\n",
    "print(False + 1)"
   ]
  },
  {
   "cell_type": "code",
   "execution_count": 15,
   "id": "b0721c78",
   "metadata": {},
   "outputs": [
    {
     "name": "stdout",
     "output_type": "stream",
     "text": [
      "True\n"
     ]
    }
   ],
   "source": [
    "name = \"Sue\"\n",
    "print(name.isalpha())"
   ]
  },
  {
   "cell_type": "code",
   "execution_count": null,
   "id": "d669d863",
   "metadata": {},
   "outputs": [],
   "source": []
  },
  {
   "cell_type": "code",
   "execution_count": null,
   "id": "f724a9f0",
   "metadata": {},
   "outputs": [],
   "source": []
  }
 ],
 "metadata": {
  "kernelspec": {
   "display_name": "Python 3 (ipykernel)",
   "language": "python",
   "name": "python3"
  },
  "language_info": {
   "codemirror_mode": {
    "name": "ipython",
    "version": 3
   },
   "file_extension": ".py",
   "mimetype": "text/x-python",
   "name": "python",
   "nbconvert_exporter": "python",
   "pygments_lexer": "ipython3",
   "version": "3.9.7"
  }
 },
 "nbformat": 4,
 "nbformat_minor": 5
}
