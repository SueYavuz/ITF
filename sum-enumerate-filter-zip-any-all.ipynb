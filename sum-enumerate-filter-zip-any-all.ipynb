{
 "cells": [
  {
   "cell_type": "code",
   "execution_count": 17,
   "id": "8f04c992",
   "metadata": {},
   "outputs": [
    {
     "name": "stdout",
     "output_type": "stream",
     "text": [
      "7\n",
      "8\n",
      "56\n"
     ]
    }
   ],
   "source": [
    "def my_function(a,b):\n",
    "    \n",
    "    a=int(input())\n",
    "    b=int(input())\n",
    "    return(a*b)\n",
    "print(my_function(a,b))"
   ]
  },
  {
   "cell_type": "code",
   "execution_count": 8,
   "id": "c2b03c5c",
   "metadata": {},
   "outputs": [
    {
     "data": {
      "text/plain": [
       "'THIS IS A UPPERCASE STRING'"
      ]
     },
     "execution_count": 8,
     "metadata": {},
     "output_type": "execute_result"
    }
   ],
   "source": [
    "'this is a uppercase string'.upper()"
   ]
  },
  {
   "cell_type": "code",
   "execution_count": 24,
   "id": "f2f01754",
   "metadata": {},
   "outputs": [
    {
     "data": {
      "text/plain": [
       "True"
      ]
     },
     "execution_count": 24,
     "metadata": {},
     "output_type": "execute_result"
    }
   ],
   "source": [
    "ls1= list(range(5,11))\n",
    "all(ls1)"
   ]
  },
  {
   "cell_type": "code",
   "execution_count": 12,
   "id": "939d4a0e",
   "metadata": {},
   "outputs": [
    {
     "data": {
      "text/plain": [
       "True"
      ]
     },
     "execution_count": 12,
     "metadata": {},
     "output_type": "execute_result"
    }
   ],
   "source": [
    "any(ls1)"
   ]
  },
  {
   "cell_type": "code",
   "execution_count": 14,
   "id": "ce13b64d",
   "metadata": {},
   "outputs": [
    {
     "data": {
      "text/plain": [
       "False"
      ]
     },
     "execution_count": 14,
     "metadata": {},
     "output_type": "execute_result"
    }
   ],
   "source": [
    "x=5\n",
    "callable(x)"
   ]
  },
  {
   "cell_type": "code",
   "execution_count": 27,
   "id": "bb676260",
   "metadata": {},
   "outputs": [],
   "source": [
    "ls2=['a','b','c','d','e']\n"
   ]
  },
  {
   "cell_type": "code",
   "execution_count": 25,
   "id": "93fd1cf0",
   "metadata": {},
   "outputs": [
    {
     "data": {
      "text/plain": [
       "[5, 6, 7, 8, 9, 10]"
      ]
     },
     "execution_count": 25,
     "metadata": {},
     "output_type": "execute_result"
    }
   ],
   "source": [
    "ls1"
   ]
  },
  {
   "cell_type": "code",
   "execution_count": 28,
   "id": "b65cc4b4",
   "metadata": {},
   "outputs": [
    {
     "name": "stdout",
     "output_type": "stream",
     "text": [
      "(5, 'a')\n",
      "(6, 'b')\n",
      "(7, 'c')\n",
      "(8, 'd')\n",
      "(9, 'e')\n"
     ]
    }
   ],
   "source": [
    "for i in zip(ls1,ls2):\n",
    "    print(i)"
   ]
  },
  {
   "cell_type": "code",
   "execution_count": 33,
   "id": "6c3ddeab",
   "metadata": {},
   "outputs": [],
   "source": [
    "numbers=[1,2,3,4,5,6,7,8,9,10]\n",
    "\n",
    "def check_even(number):\n",
    "    if number%2==0:\n",
    "            return True\n",
    "    return False\n"
   ]
  },
  {
   "cell_type": "code",
   "execution_count": 34,
   "id": "7dbf9766",
   "metadata": {},
   "outputs": [
    {
     "name": "stdout",
     "output_type": "stream",
     "text": [
      "[2, 4, 6, 8, 10]\n"
     ]
    }
   ],
   "source": [
    "filtered_even = filter(check_even, numbers)\n",
    "print(list(filtered_even))"
   ]
  },
  {
   "cell_type": "code",
   "execution_count": 35,
   "id": "0b1e41d3",
   "metadata": {},
   "outputs": [
    {
     "name": "stdout",
     "output_type": "stream",
     "text": [
      "[(0, 'bread'), (1, 'water'), (2, 'olive')]\n",
      "[(100, 'bread'), (101, 'water'), (102, 'olive')]\n"
     ]
    }
   ],
   "source": [
    "grocery = ['bread','water','olive']\n",
    "enum_grocery = enumerate(grocery)\n",
    "enum_grocery_100= enumerate(grocery,100)\n",
    "print(list(enum_grocery))\n",
    "print(list(enum_grocery_100))"
   ]
  },
  {
   "cell_type": "code",
   "execution_count": 38,
   "id": "142e0491",
   "metadata": {},
   "outputs": [
    {
     "name": "stdout",
     "output_type": "stream",
     "text": [
      "21.5\n"
     ]
    }
   ],
   "source": [
    "numbers=[2.5,30,4,-15]\n",
    "number_sum=sum(numbers)\n",
    "print(number_sum)"
   ]
  },
  {
   "cell_type": "code",
   "execution_count": 39,
   "id": "86708159",
   "metadata": {},
   "outputs": [
    {
     "name": "stdout",
     "output_type": "stream",
     "text": [
      "41.5\n"
     ]
    }
   ],
   "source": [
    "number_sum=sum(numbers,20)\n",
    "print(number_sum)"
   ]
  },
  {
   "cell_type": "code",
   "execution_count": null,
   "id": "5556a748",
   "metadata": {},
   "outputs": [],
   "source": []
  },
  {
   "cell_type": "code",
   "execution_count": null,
   "id": "f58e033c",
   "metadata": {},
   "outputs": [],
   "source": []
  },
  {
   "cell_type": "code",
   "execution_count": null,
   "id": "7e6490f5",
   "metadata": {},
   "outputs": [],
   "source": []
  },
  {
   "cell_type": "code",
   "execution_count": null,
   "id": "d3b0aea1",
   "metadata": {},
   "outputs": [],
   "source": []
  },
  {
   "cell_type": "code",
   "execution_count": null,
   "id": "85022222",
   "metadata": {},
   "outputs": [],
   "source": []
  }
 ],
 "metadata": {
  "kernelspec": {
   "display_name": "Python 3 (ipykernel)",
   "language": "python",
   "name": "python3"
  },
  "language_info": {
   "codemirror_mode": {
    "name": "ipython",
    "version": 3
   },
   "file_extension": ".py",
   "mimetype": "text/x-python",
   "name": "python",
   "nbconvert_exporter": "python",
   "pygments_lexer": "ipython3",
   "version": "3.9.7"
  }
 },
 "nbformat": 4,
 "nbformat_minor": 5
}
