{
 "cells": [
  {
   "cell_type": "code",
   "execution_count": 9,
   "id": "7bc9ae40",
   "metadata": {},
   "outputs": [],
   "source": [
    "#zip function\n",
    "text = ['one', 'two', 'three', 'four', 'five']\n",
    "numbers = [1,2,3,4,5]\n",
    "\n",
    "zipped = zip(text, numbers)\n",
    "\n"
   ]
  },
  {
   "cell_type": "code",
   "execution_count": 10,
   "id": "51a37be9",
   "metadata": {},
   "outputs": [
    {
     "name": "stdout",
     "output_type": "stream",
     "text": [
      "('one', 1) ('two', 2) ('three', 3) ('four', 4) ('five', 5)\n"
     ]
    }
   ],
   "source": [
    "print(*zipped)\n"
   ]
  },
  {
   "cell_type": "code",
   "execution_count": 12,
   "id": "4f19ad90",
   "metadata": {},
   "outputs": [
    {
     "data": {
      "text/plain": [
       "[('one', 1), ('two', 2), ('three', 3), ('four', 4), ('five', 5)]"
      ]
     },
     "execution_count": 12,
     "metadata": {},
     "output_type": "execute_result"
    }
   ],
   "source": [
    "zipped = zip(text, numbers)\n",
    "list(zipped)"
   ]
  },
  {
   "cell_type": "code",
   "execution_count": 15,
   "id": "4dda504a",
   "metadata": {},
   "outputs": [
    {
     "name": "stdout",
     "output_type": "stream",
     "text": [
      "one : 1\n",
      "two : 2\n",
      "three : 3\n",
      "four : 4\n",
      "five : 5\n"
     ]
    }
   ],
   "source": [
    "zipped = zip(text, numbers)\n",
    "for x, y in zipped:\n",
    "    print(x, ':', y)"
   ]
  },
  {
   "cell_type": "code",
   "execution_count": 17,
   "id": "3cd08107",
   "metadata": {},
   "outputs": [
    {
     "data": {
      "text/plain": [
       "{'one': 1, 'two': 2, 'three': 3, 'four': 4, 'five': 5}"
      ]
     },
     "execution_count": 17,
     "metadata": {},
     "output_type": "execute_result"
    }
   ],
   "source": [
    "zipped = zip(text, numbers)\n",
    "dict(zipped)"
   ]
  },
  {
   "cell_type": "code",
   "execution_count": 21,
   "id": "2e2159de",
   "metadata": {},
   "outputs": [
    {
     "name": "stdout",
     "output_type": "stream",
     "text": [
      "two : 2 3\n",
      "three : 3 4\n"
     ]
    }
   ],
   "source": [
    "text = ['one', 'two', 'three', 'four', 'five']\n",
    "numbers = [1,2,3,4]\n",
    "asd = [2,3,4]\n",
    "for x, y, z in zipped:\n",
    "    print(x, ':', y, z)\n"
   ]
  },
  {
   "cell_type": "code",
   "execution_count": 22,
   "id": "9fa6d3f9",
   "metadata": {},
   "outputs": [
    {
     "name": "stdout",
     "output_type": "stream",
     "text": [
      "odds 1\n",
      "evens 2\n",
      "odds 3\n",
      "evens 4\n",
      "odds 5\n",
      "evens 6\n",
      "odds 7\n",
      "evens 8\n",
      "odds 9\n"
     ]
    }
   ],
   "source": [
    "numbers = range(1,10)\n",
    "for i in numbers:\n",
    "    if i%2 == 0:\n",
    "        print('evens', i)\n",
    "    else:\n",
    "        print('odds', i)\n"
   ]
  },
  {
   "cell_type": "code",
   "execution_count": 25,
   "id": "57b729b1",
   "metadata": {},
   "outputs": [
    {
     "name": "stdout",
     "output_type": "stream",
     "text": [
      "evens [0, 2, 4, 6, 8]\n",
      "odds [1, 3, 5, 7, 9]\n"
     ]
    }
   ],
   "source": [
    "evens = []\n",
    "odds = []\n",
    "\n",
    "for i in range(10):\n",
    "    \n",
    "    if i%2 == 0:\n",
    "        evens.append(i)\n",
    "    else:\n",
    "        odds.append(i)\n",
    "        \n",
    "print('evens', evens)\n",
    "print('odds', odds)"
   ]
  },
  {
   "cell_type": "code",
   "execution_count": 28,
   "id": "e0a6af3a",
   "metadata": {},
   "outputs": [
    {
     "name": "stdout",
     "output_type": "stream",
     "text": [
      "The number of even numbers : 3\n",
      "The number of odds numbers : 4\n"
     ]
    }
   ],
   "source": [
    "evens = []\n",
    "odds = []\n",
    "example = [11,2,24,61,48,33,3]\n",
    "for i in example:\n",
    "    if i%2 == 0:\n",
    "        evens.append(i)\n",
    "    else:\n",
    "        odds.append(i)\n",
    "        \n",
    "print(f'The number of even numbers : {len(evens)}')\n",
    "print(f'The number of odds numbers : {len(odds)}')\n",
    "      \n",
    "      \n",
    "    \n",
    "    "
   ]
  },
  {
   "cell_type": "code",
   "execution_count": 29,
   "id": "3903357b",
   "metadata": {},
   "outputs": [
    {
     "name": "stdout",
     "output_type": "stream",
     "text": [
      "2775\n"
     ]
    }
   ],
   "source": [
    "total=0\n",
    "for i in range(1,75):\n",
    "    total += i\n",
    "print(total)"
   ]
  },
  {
   "cell_type": "code",
   "execution_count": 30,
   "id": "4e3d701c",
   "metadata": {},
   "outputs": [
    {
     "name": "stdout",
     "output_type": "stream",
     "text": [
      "susan  is  happy\n",
      "susan  is  sad\n",
      "tom  is  happy\n",
      "tom  is  sad\n",
      "edward  is  happy\n",
      "edward  is  sad\n"
     ]
    }
   ],
   "source": [
    "names = ['susan','tom','edward']\n",
    "mood = ['happy','sad']\n",
    "for i in names:\n",
    "    for m in mood:\n",
    "        print(i, ' is ',m )"
   ]
  },
  {
   "cell_type": "code",
   "execution_count": null,
   "id": "eb46788a",
   "metadata": {},
   "outputs": [],
   "source": []
  },
  {
   "cell_type": "code",
   "execution_count": null,
   "id": "d8b86e5a",
   "metadata": {},
   "outputs": [],
   "source": []
  },
  {
   "cell_type": "code",
   "execution_count": null,
   "id": "06bb0189",
   "metadata": {},
   "outputs": [],
   "source": []
  },
  {
   "cell_type": "code",
   "execution_count": null,
   "id": "107aa347",
   "metadata": {},
   "outputs": [],
   "source": []
  },
  {
   "cell_type": "code",
   "execution_count": null,
   "id": "9ec0f5bc",
   "metadata": {},
   "outputs": [],
   "source": []
  }
 ],
 "metadata": {
  "kernelspec": {
   "display_name": "Python 3 (ipykernel)",
   "language": "python",
   "name": "python3"
  },
  "language_info": {
   "codemirror_mode": {
    "name": "ipython",
    "version": 3
   },
   "file_extension": ".py",
   "mimetype": "text/x-python",
   "name": "python",
   "nbconvert_exporter": "python",
   "pygments_lexer": "ipython3",
   "version": "3.9.7"
  }
 },
 "nbformat": 4,
 "nbformat_minor": 5
}
