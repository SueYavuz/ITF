{
 "cells": [
  {
   "cell_type": "code",
   "execution_count": null,
   "id": "6e761b7c",
   "metadata": {},
   "outputs": [],
   "source": [
    "#write an application that calculates the squares and cubes \n",
    "#of the numbers from 0-9 and prints the resulting values\n",
    "#in table format."
   ]
  },
  {
   "cell_type": "code",
   "execution_count": 6,
   "id": "8cd6ea0b",
   "metadata": {},
   "outputs": [
    {
     "name": "stdout",
     "output_type": "stream",
     "text": [
      "Number\tSquare\tCube\n",
      "0\t0\t0\n",
      "1\t1\t1\n",
      "2\t4\t8\n",
      "3\t9\t27\n",
      "4\t16\t64\n",
      "5\t25\t125\n",
      "6\t36\t216\n",
      "7\t49\t343\n",
      "8\t64\t512\n",
      "9\t81\t729\n",
      "10\t100\t1000\n"
     ]
    }
   ],
   "source": [
    "var1 = 10\n",
    "\n",
    "print(\"Number\\tSquare\\tCube\")\n",
    "\n",
    "for i in range(var1+1):\n",
    "    print(i,i**2,i**3,sep='\\t')"
   ]
  },
  {
   "cell_type": "code",
   "execution_count": null,
   "id": "df26ce64",
   "metadata": {},
   "outputs": [],
   "source": []
  }
 ],
 "metadata": {
  "kernelspec": {
   "display_name": "Python 3 (ipykernel)",
   "language": "python",
   "name": "python3"
  },
  "language_info": {
   "codemirror_mode": {
    "name": "ipython",
    "version": 3
   },
   "file_extension": ".py",
   "mimetype": "text/x-python",
   "name": "python",
   "nbconvert_exporter": "python",
   "pygments_lexer": "ipython3",
   "version": "3.9.7"
  }
 },
 "nbformat": 4,
 "nbformat_minor": 5
}
