{
 "cells": [
  {
   "cell_type": "code",
   "execution_count": 1,
   "id": "4156acaf",
   "metadata": {},
   "outputs": [
    {
     "name": "stdout",
     "output_type": "stream",
     "text": [
      "Write a five-digit number and see ir it is palindrome: k\n",
      "Invalid input.! Write a five-digit number and see ir it is palindrome: 98098\n",
      "Sorry....!\n"
     ]
    }
   ],
   "source": [
    "x= input('Write a five-digit number and see ir it is palindrome: ')\n",
    "\n",
    "\n",
    "while not x.isdigit() or len(x)!=5:\n",
    "    x= input('Invalid input.! Write a five-digit number and see ir it is palindrome: ')\n",
    "\n",
    "if x.startswith(x[-1:-4:-1]):\n",
    "    print('YES......!')\n",
    "else:\n",
    "    print('Sorry....!')\n"
   ]
  },
  {
   "cell_type": "code",
   "execution_count": null,
   "id": "f0cea1fe",
   "metadata": {},
   "outputs": [],
   "source": []
  },
  {
   "cell_type": "code",
   "execution_count": null,
   "id": "7f1081ef",
   "metadata": {},
   "outputs": [],
   "source": []
  },
  {
   "cell_type": "code",
   "execution_count": null,
   "id": "5ea500dc",
   "metadata": {},
   "outputs": [],
   "source": []
  },
  {
   "cell_type": "code",
   "execution_count": null,
   "id": "3fc6ac6f",
   "metadata": {},
   "outputs": [],
   "source": []
  },
  {
   "cell_type": "code",
   "execution_count": null,
   "id": "baa8874c",
   "metadata": {},
   "outputs": [],
   "source": []
  }
 ],
 "metadata": {
  "kernelspec": {
   "display_name": "Python 3 (ipykernel)",
   "language": "python",
   "name": "python3"
  },
  "language_info": {
   "codemirror_mode": {
    "name": "ipython",
    "version": 3
   },
   "file_extension": ".py",
   "mimetype": "text/x-python",
   "name": "python",
   "nbconvert_exporter": "python",
   "pygments_lexer": "ipython3",
   "version": "3.9.7"
  }
 },
 "nbformat": 4,
 "nbformat_minor": 5
}
