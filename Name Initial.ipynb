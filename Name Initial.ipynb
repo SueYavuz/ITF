{
 "cells": [
  {
   "cell_type": "code",
   "execution_count": 5,
   "id": "52e6f00d",
   "metadata": {},
   "outputs": [
    {
     "name": "stdout",
     "output_type": "stream",
     "text": [
      "Enter your first name: sue\n",
      "Enter your last name: yavuz\n",
      "Your initials are:  SY\n"
     ]
    }
   ],
   "source": [
    "first_name = input(\"Enter your first name: \")\n",
    "first_name_initial = first_name[0:1].upper()\n",
    "last_name = input(\"Enter your last name: \")\n",
    "last_name_initial = last_name[0:1].upper()\n",
    "print(\"Your initials are: \" , first_name_initial + last_name_initial )\n"
   ]
  },
  {
   "cell_type": "code",
   "execution_count": 8,
   "id": "adc36ea1",
   "metadata": {},
   "outputs": [
    {
     "name": "stdout",
     "output_type": "stream",
     "text": [
      "Enter your first name: sue\n",
      "Enter your last name: yavuz\n",
      "Your initials are:  SY\n"
     ]
    }
   ],
   "source": [
    "def get_initial(name):\n",
    "    initial = name[0:1].upper()\n",
    "    return initial\n",
    "\n",
    "first_name = input(\"Enter your first name: \")\n",
    "last_name = input(\"Enter your last name: \")\n",
    "\n",
    "print(\"Your initials are: \" , get_initial(first_name) + get_initial(last_name) )"
   ]
  },
  {
   "cell_type": "code",
   "execution_count": null,
   "id": "46152cef",
   "metadata": {},
   "outputs": [],
   "source": [
    "#ask for someones name and return the initials\n",
    "first_name = input(\"Enter your first name: \")\n",
    "first_name_initial = first_name[0:1].upper()\n",
    "\n",
    "middle_name = input(\"Enter you middle name: \")\n",
    "middle_name_initial = middle_name[0:1].upper()\n",
    "\n",
    "last_name = input(\"Enter your last name: \")\n",
    "last_name_initial = last_name[0:1].upper()\n",
    "\n",
    "print(\"Your initials are: \" , first_name_initial + middle_name_initial + last_name_initial )\n"
   ]
  },
  {
   "cell_type": "code",
   "execution_count": null,
   "id": "8f95e119",
   "metadata": {},
   "outputs": [],
   "source": []
  },
  {
   "cell_type": "code",
   "execution_count": null,
   "id": "bcb5c531",
   "metadata": {},
   "outputs": [],
   "source": [
    "#This function will return the first initial of a name\n",
    "def get_initial(name):\n",
    "    initial = name[0:1].upper()\n",
    "    return initial\n",
    "\n",
    "#ask for someones name and return the initials\n",
    "first_name = input(\"Enter your first name: \")\n",
    "first_name_initial = get_initial(first_name)\n",
    "\n",
    "middle_name = input(\"Enter you middle name: \")\n",
    "middle_name_initial = get_initial(middle_name)\n",
    "\n",
    "last_name = input(\"Enter your last name: \")\n",
    "last_name_initial = get_initial(last_name)\n",
    "\n",
    "print(\"Your initials are: \" , first_name_initial + middle_name_initial + last_name_initial )\n"
   ]
  },
  {
   "cell_type": "code",
   "execution_count": null,
   "id": "f47d353e",
   "metadata": {},
   "outputs": [],
   "source": []
  },
  {
   "cell_type": "code",
   "execution_count": null,
   "id": "831a363a",
   "metadata": {},
   "outputs": [],
   "source": []
  },
  {
   "cell_type": "code",
   "execution_count": null,
   "id": "4ad6f026",
   "metadata": {},
   "outputs": [],
   "source": []
  },
  {
   "cell_type": "code",
   "execution_count": null,
   "id": "3dca0e4d",
   "metadata": {},
   "outputs": [],
   "source": []
  }
 ],
 "metadata": {
  "kernelspec": {
   "display_name": "Python 3 (ipykernel)",
   "language": "python",
   "name": "python3"
  },
  "language_info": {
   "codemirror_mode": {
    "name": "ipython",
    "version": 3
   },
   "file_extension": ".py",
   "mimetype": "text/x-python",
   "name": "python",
   "nbconvert_exporter": "python",
   "pygments_lexer": "ipython3",
   "version": "3.9.7"
  }
 },
 "nbformat": 4,
 "nbformat_minor": 5
}
