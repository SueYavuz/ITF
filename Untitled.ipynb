{
 "cells": [
  {
   "cell_type": "code",
   "execution_count": 1,
   "id": "c6f01a8c",
   "metadata": {},
   "outputs": [
    {
     "name": "stdout",
     "output_type": "stream",
     "text": [
      "square of 0 is : 0\n",
      "square of 1 is : 1\n",
      "square of 2 is : 4\n",
      "square of 3 is : 9\n",
      "square of 4 is : 16\n"
     ]
    }
   ],
   "source": [
    "a = 0\n",
    "while a < 5:\n",
    "    print('square of {} is : {}'.format(a,a**2))\n",
    "    a+=1"
   ]
  },
  {
   "cell_type": "code",
   "execution_count": 2,
   "id": "22ac5900",
   "metadata": {},
   "outputs": [
    {
     "name": "stdout",
     "output_type": "stream",
     "text": [
      "square of 0 is : 0\n",
      "square of 1 is : 1\n",
      "square of 2 is : 4\n",
      "square of 3 is : 9\n",
      "square of 4 is : 16\n"
     ]
    }
   ],
   "source": [
    "a = 0\n",
    "while a < 5:\n",
    "    print(f'square of {a} is : {a**2}')\n",
    "    a+=1"
   ]
  },
  {
   "cell_type": "code",
   "execution_count": 3,
   "id": "7eaca0f9",
   "metadata": {},
   "outputs": [
    {
     "name": "stdout",
     "output_type": "stream",
     "text": [
      "write your age: 33\n",
      "you entered valid input!\n"
     ]
    }
   ],
   "source": [
    "age = input('write your age: ')\n",
    "\n",
    "while not age.isdigit():\n",
    "    print('this is not valid input!')\n",
    "    age = input('write a valid age of your: ') \n",
    "   \n",
    "print('you entered valid input!')"
   ]
  },
  {
   "cell_type": "code",
   "execution_count": 4,
   "id": "e77ab2fc",
   "metadata": {},
   "outputs": [
    {
     "name": "stdout",
     "output_type": "stream",
     "text": [
      "write your age: 33\n",
      "you entered valid input!\n"
     ]
    }
   ],
   "source": [
    "age = input('write your age: ')\n",
    "\n",
    "while not age.isdigit() :\n",
    "    print('this is not valid input!')\n",
    "    age = input('write a valid age of your: ')\n",
    "    \n",
    "print('you entered valid input!')"
   ]
  },
  {
   "cell_type": "code",
   "execution_count": 5,
   "id": "34652975",
   "metadata": {},
   "outputs": [
    {
     "name": "stdout",
     "output_type": "stream",
     "text": [
      "guess a number: 33\n",
      "little lower......\n",
      "guess a number: 23\n",
      "little higher....\n",
      "guess a number: 24\n",
      "little higher....\n",
      "guess a number: 25\n",
      "you are mindreader! \n"
     ]
    }
   ],
   "source": [
    "number = 25\n",
    "\n",
    "while True:\n",
    "    \n",
    "    guess = int(input('guess a number: '))\n",
    "    \n",
    "    if guess < number:\n",
    "        print('little higher....')\n",
    "        \n",
    "        \n",
    "    elif guess > number:\n",
    "        print('little lower......')\n",
    "        \n",
    "        \n",
    "    else:\n",
    "        print('you are mindreader! ')\n",
    "        break\n",
    "        \n",
    "        \n",
    "        \n"
   ]
  },
  {
   "cell_type": "code",
   "execution_count": 6,
   "id": "de65eb91",
   "metadata": {},
   "outputs": [
    {
     "data": {
      "text/plain": [
       "16"
      ]
     },
     "execution_count": 6,
     "metadata": {},
     "output_type": "execute_result"
    }
   ],
   "source": [
    "2**4"
   ]
  },
  {
   "cell_type": "code",
   "execution_count": 24,
   "id": "7a576032",
   "metadata": {},
   "outputs": [
    {
     "data": {
      "text/plain": [
       "['lkfjdk', 'cdjdkdkd', 'jfjfj', 'fjfjf']"
      ]
     },
     "execution_count": 24,
     "metadata": {},
     "output_type": "execute_result"
    }
   ],
   "source": [
    "# input\n",
    "# while \n",
    "'The best school is Clarusway'.split()\n"
   ]
  },
  {
   "cell_type": "code",
   "execution_count": 25,
   "id": "451da41a",
   "metadata": {},
   "outputs": [
    {
     "name": "stdout",
     "output_type": "stream",
     "text": [
      "Give me a sentence : The best school is Clarusway\n",
      "The length of the longest word :  9\n"
     ]
    }
   ],
   "source": [
    "sentence = input('Give me a sentence : ')\n",
    "word_list = sentence.split()\n",
    "\n",
    "longest = 0\n",
    "i = 0\n",
    "\n",
    "while i < len(word_list) :\n",
    "    if len(word_list[i]) >longest:\n",
    "        longest = len(word_list[i])\n",
    "        \n",
    "    i += 1\n",
    "    \n",
    "print('The length of the longest word : ', longest)\n",
    "    \n"
   ]
  },
  {
   "cell_type": "code",
   "execution_count": 28,
   "id": "804b385b",
   "metadata": {},
   "outputs": [
    {
     "name": "stdout",
     "output_type": "stream",
     "text": [
      "1\n",
      "2\n",
      "3\n",
      "4\n",
      "5\n"
     ]
    }
   ],
   "source": [
    "for i in [1,2,3,4,5]:\n",
    "    print(i)"
   ]
  },
  {
   "cell_type": "code",
   "execution_count": 29,
   "id": "7405051e",
   "metadata": {},
   "outputs": [
    {
     "name": "stdout",
     "output_type": "stream",
     "text": [
      "hello Ahmet\n",
      "hello Ayse\n",
      "hello Adam\n",
      "hello Joseph\n",
      "hello Gabriel\n"
     ]
    }
   ],
   "source": [
    "names = ['ahmet', 'ayse', 'adam', 'joseph', 'gabriel']\n",
    "for i in names:\n",
    "    print(f'hello {i.title()}')"
   ]
  },
  {
   "cell_type": "code",
   "execution_count": 35,
   "id": "43aeb7e3",
   "metadata": {},
   "outputs": [
    {
     "name": "stdout",
     "output_type": "stream",
     "text": [
      "1\n",
      "2\n",
      "3\n",
      "4\n",
      "5\n"
     ]
    }
   ],
   "source": [
    "list_numbers=(range(1,6))\n",
    "for i in list_numbers:\n",
    "    print(i)"
   ]
  },
  {
   "cell_type": "code",
   "execution_count": 37,
   "id": "27802640",
   "metadata": {},
   "outputs": [
    {
     "name": "stdout",
     "output_type": "stream",
     "text": [
      "[1, 2, 3, 4, 5]\n"
     ]
    }
   ],
   "source": [
    "numbers = []\n",
    "\n",
    "for i in range(1,6):\n",
    "    numbers.append(i)\n",
    "print(numbers)"
   ]
  },
  {
   "cell_type": "code",
   "execution_count": 39,
   "id": "ffd69e0b",
   "metadata": {},
   "outputs": [
    {
     "ename": "TypeError",
     "evalue": "'int' object is not iterable",
     "output_type": "error",
     "traceback": [
      "\u001b[0;31m---------------------------------------------------------------------------\u001b[0m",
      "\u001b[0;31mTypeError\u001b[0m                                 Traceback (most recent call last)",
      "\u001b[0;32m/var/folders/wk/n0rjrcc539b8hl_lgc074gsm0000gn/T/ipykernel_1226/2684242426.py\u001b[0m in \u001b[0;36m<module>\u001b[0;34m\u001b[0m\n\u001b[0;32m----> 1\u001b[0;31m \u001b[0;32mfor\u001b[0m \u001b[0mi\u001b[0m \u001b[0;32min\u001b[0m \u001b[0;36m5\u001b[0m\u001b[0;34m:\u001b[0m\u001b[0;34m\u001b[0m\u001b[0;34m\u001b[0m\u001b[0m\n\u001b[0m\u001b[1;32m      2\u001b[0m     \u001b[0mprint\u001b[0m\u001b[0;34m(\u001b[0m\u001b[0;36m5\u001b[0m\u001b[0;34m)\u001b[0m\u001b[0;34m\u001b[0m\u001b[0;34m\u001b[0m\u001b[0m\n",
      "\u001b[0;31mTypeError\u001b[0m: 'int' object is not iterable"
     ]
    }
   ],
   "source": [
    "#TypeError: 'int' object is not iterable\n",
    "\n",
    "\n",
    "for i in 5:\n",
    "    print(5)"
   ]
  },
  {
   "cell_type": "code",
   "execution_count": 49,
   "id": "48904e0c",
   "metadata": {},
   "outputs": [
    {
     "name": "stdout",
     "output_type": "stream",
     "text": [
      "c\n",
      "l\n",
      "a\n",
      "r\n",
      "u\n",
      "s\n",
      "w\n",
      "a\n",
      "y\n"
     ]
    }
   ],
   "source": [
    "var = 'Clarusway'\n",
    "for i in var:\n",
    "    #print(i)\n",
    "    \n",
    "    a = i.lower()\n",
    "    print(a)\n"
   ]
  },
  {
   "cell_type": "code",
   "execution_count": 54,
   "id": "af70a46b",
   "metadata": {},
   "outputs": [
    {
     "name": "stdout",
     "output_type": "stream",
     "text": [
      "give me a word: clarusway\n",
      "c-l-a-r-u-s-w-a-y"
     ]
    }
   ],
   "source": [
    "word = str(input('give me a word: '))\n",
    "\n",
    "counter = 0\n",
    "for i in word:\n",
    "    counter += 1\n",
    "    \n",
    "    if counter < len(word):\n",
    "        i += '-'\n",
    "    \n",
    "    print(i, end='')"
   ]
  },
  {
   "cell_type": "code",
   "execution_count": 55,
   "id": "7f9b94db",
   "metadata": {},
   "outputs": [
    {
     "name": "stdout",
     "output_type": "stream",
     "text": [
      "hello uyanda baliga gidelim\n",
      "hello uyanda baliga gidelim\n",
      "hello uyanda baliga gidelim\n"
     ]
    }
   ],
   "source": [
    "for i in 'abc':\n",
    "    print('hello uyanda baliga gidelim')"
   ]
  },
  {
   "cell_type": "code",
   "execution_count": 56,
   "id": "4586f7ce",
   "metadata": {},
   "outputs": [],
   "source": [
    "test = [(1,2),(3,4), (5,6)]"
   ]
  },
  {
   "cell_type": "code",
   "execution_count": 57,
   "id": "2e4599d4",
   "metadata": {},
   "outputs": [
    {
     "name": "stdout",
     "output_type": "stream",
     "text": [
      "1 2\n",
      "3 4\n",
      "5 6\n"
     ]
    }
   ],
   "source": [
    "for i, j in test:\n",
    "    print(i,j)"
   ]
  },
  {
   "cell_type": "code",
   "execution_count": 61,
   "id": "263ca873",
   "metadata": {},
   "outputs": [
    {
     "name": "stdout",
     "output_type": "stream",
     "text": [
      "write a number 0 - 9 : 7\n",
      "7 X 0 = 0\n",
      "7 X 1 = 7\n",
      "7 X 2 = 14\n",
      "7 X 3 = 21\n",
      "7 X 4 = 28\n",
      "7 X 5 = 35\n",
      "7 X 6 = 42\n",
      "7 X 7 = 49\n",
      "7 X 8 = 56\n",
      "7 X 9 = 63\n",
      "7 X 10 = 70\n"
     ]
    }
   ],
   "source": [
    "num = int(input('write a number 0 - 9 : '))\n",
    "for i in range(0,11):\n",
    "    print(f'{num} X {i} = {num * i}')\n",
    "    \n",
    "   "
   ]
  },
  {
   "cell_type": "code",
   "execution_count": 62,
   "id": "126e939f",
   "metadata": {},
   "outputs": [
    {
     "name": "stdout",
     "output_type": "stream",
     "text": [
      "1\n",
      "22\n",
      "333\n",
      "4444\n",
      "55555\n",
      "666666\n",
      "7777777\n",
      "88888888\n",
      "999999999\n"
     ]
    }
   ],
   "source": [
    "for i in range(1,10):\n",
    "    print(str(i)*i)"
   ]
  },
  {
   "cell_type": "code",
   "execution_count": 64,
   "id": "23ce7faf",
   "metadata": {},
   "outputs": [],
   "source": [
    "text = ['one','two','three', 'four', 'five']\n"
   ]
  },
  {
   "cell_type": "code",
   "execution_count": null,
   "id": "0ce68d65",
   "metadata": {},
   "outputs": [],
   "source": [
    "print(text)"
   ]
  },
  {
   "cell_type": "code",
   "execution_count": null,
   "id": "8ee0cd8a",
   "metadata": {},
   "outputs": [],
   "source": []
  },
  {
   "cell_type": "code",
   "execution_count": null,
   "id": "89672e1d",
   "metadata": {},
   "outputs": [],
   "source": []
  }
 ],
 "metadata": {
  "kernelspec": {
   "display_name": "Python 3 (ipykernel)",
   "language": "python",
   "name": "python3"
  },
  "language_info": {
   "codemirror_mode": {
    "name": "ipython",
    "version": 3
   },
   "file_extension": ".py",
   "mimetype": "text/x-python",
   "name": "python",
   "nbconvert_exporter": "python",
   "pygments_lexer": "ipython3",
   "version": "3.9.7"
  }
 },
 "nbformat": 4,
 "nbformat_minor": 5
}
