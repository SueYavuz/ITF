{
 "cells": [
  {
   "cell_type": "code",
   "execution_count": 1,
   "id": "6c2e22ed",
   "metadata": {},
   "outputs": [],
   "source": [
    "def sum_square(arg1,arg2):\n",
    "    print(arg1**2,arg2**2)\n",
    "    "
   ]
  },
  {
   "cell_type": "markdown",
   "id": "713ef27b",
   "metadata": {},
   "source": []
  },
  {
   "cell_type": "code",
   "execution_count": 2,
   "id": "42672237",
   "metadata": {},
   "outputs": [
    {
     "name": "stdout",
     "output_type": "stream",
     "text": [
      "16 64\n"
     ]
    }
   ],
   "source": [
    "sum_square(4,8)"
   ]
  },
  {
   "cell_type": "code",
   "execution_count": 9,
   "id": "e17dfe5a",
   "metadata": {},
   "outputs": [],
   "source": [
    "def st_repeat(arg1,arg2):\n",
    "    print(arg1*arg2)\n",
    "    "
   ]
  },
  {
   "cell_type": "code",
   "execution_count": 10,
   "id": "62025217",
   "metadata": {},
   "outputs": [
    {
     "name": "stdout",
     "output_type": "stream",
     "text": [
      "aaaaa\n"
     ]
    }
   ],
   "source": [
    "st_repeat('a',5)"
   ]
  },
  {
   "cell_type": "code",
   "execution_count": 11,
   "id": "5088bb0f",
   "metadata": {},
   "outputs": [
    {
     "name": "stdout",
     "output_type": "stream",
     "text": [
      "30\n"
     ]
    }
   ],
   "source": [
    "st_repeat(6,5)"
   ]
  },
  {
   "cell_type": "code",
   "execution_count": 14,
   "id": "b4b10168",
   "metadata": {},
   "outputs": [],
   "source": [
    "def add_numbers(a,b):\n",
    "    return a+b\n",
    "    "
   ]
  },
  {
   "cell_type": "code",
   "execution_count": 15,
   "id": "82780b75",
   "metadata": {},
   "outputs": [
    {
     "data": {
      "text/plain": [
       "15"
      ]
     },
     "execution_count": 15,
     "metadata": {},
     "output_type": "execute_result"
    }
   ],
   "source": [
    "add_numbers(8,7)"
   ]
  },
  {
   "cell_type": "code",
   "execution_count": 16,
   "id": "b3d2070c",
   "metadata": {},
   "outputs": [],
   "source": [
    "def mult_numbers(a,b):\n",
    "    return a*b"
   ]
  },
  {
   "cell_type": "code",
   "execution_count": 17,
   "id": "dbb3942a",
   "metadata": {},
   "outputs": [
    {
     "data": {
      "text/plain": [
       "8"
      ]
     },
     "execution_count": 17,
     "metadata": {},
     "output_type": "execute_result"
    }
   ],
   "source": [
    "mult_numbers(2,4)"
   ]
  },
  {
   "cell_type": "code",
   "execution_count": null,
   "id": "0c9ed41d",
   "metadata": {},
   "outputs": [],
   "source": []
  },
  {
   "cell_type": "code",
   "execution_count": null,
   "id": "7d2568a5",
   "metadata": {},
   "outputs": [],
   "source": []
  },
  {
   "cell_type": "code",
   "execution_count": null,
   "id": "6bb424dd",
   "metadata": {},
   "outputs": [],
   "source": []
  },
  {
   "cell_type": "code",
   "execution_count": null,
   "id": "7890b777",
   "metadata": {},
   "outputs": [],
   "source": []
  },
  {
   "cell_type": "code",
   "execution_count": null,
   "id": "2820cdd0",
   "metadata": {},
   "outputs": [],
   "source": []
  },
  {
   "cell_type": "code",
   "execution_count": 5,
   "id": "1af991c9",
   "metadata": {},
   "outputs": [
    {
     "name": "stdout",
     "output_type": "stream",
     "text": [
      "type a worddddd\n",
      "dddd\n",
      "4\n"
     ]
    }
   ],
   "source": [
    "text = print(str(input('type a word')))\n",
    "text = len(str(text))\n",
    "print(text)"
   ]
  },
  {
   "cell_type": "code",
   "execution_count": 12,
   "id": "03ad97f3",
   "metadata": {},
   "outputs": [
    {
     "ename": "TypeError",
     "evalue": "string_length() missing 1 required positional argument: 'text'",
     "output_type": "error",
     "traceback": [
      "\u001b[0;31m---------------------------------------------------------------------------\u001b[0m",
      "\u001b[0;31mTypeError\u001b[0m                                 Traceback (most recent call last)",
      "\u001b[0;32m/var/folders/wk/n0rjrcc539b8hl_lgc074gsm0000gn/T/ipykernel_1031/235045203.py\u001b[0m in \u001b[0;36m<module>\u001b[0;34m\u001b[0m\n\u001b[1;32m      3\u001b[0m     \u001b[0;32mreturn\u001b[0m \u001b[0mtext\u001b[0m\u001b[0;34m\u001b[0m\u001b[0;34m\u001b[0m\u001b[0m\n\u001b[1;32m      4\u001b[0m \u001b[0;34m\u001b[0m\u001b[0m\n\u001b[0;32m----> 5\u001b[0;31m \u001b[0mprint\u001b[0m\u001b[0;34m(\u001b[0m\u001b[0mstring_length\u001b[0m\u001b[0;34m(\u001b[0m\u001b[0;34m)\u001b[0m\u001b[0;34m)\u001b[0m\u001b[0;34m\u001b[0m\u001b[0;34m\u001b[0m\u001b[0m\n\u001b[0m",
      "\u001b[0;31mTypeError\u001b[0m: string_length() missing 1 required positional argument: 'text'"
     ]
    }
   ],
   "source": [
    "def string_length(text):\n",
    "    text = print(len(str(input('type a word'))))\n",
    "    return text\n",
    "\n",
    "print(string_length()) "
   ]
  },
  {
   "cell_type": "code",
   "execution_count": null,
   "id": "b3d6d6f6",
   "metadata": {},
   "outputs": [],
   "source": []
  }
 ],
 "metadata": {
  "kernelspec": {
   "display_name": "Python 3 (ipykernel)",
   "language": "python",
   "name": "python3"
  },
  "language_info": {
   "codemirror_mode": {
    "name": "ipython",
    "version": 3
   },
   "file_extension": ".py",
   "mimetype": "text/x-python",
   "name": "python",
   "nbconvert_exporter": "python",
   "pygments_lexer": "ipython3",
   "version": "3.9.7"
  }
 },
 "nbformat": 4,
 "nbformat_minor": 5
}
