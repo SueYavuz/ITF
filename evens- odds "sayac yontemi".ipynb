{
 "cells": [
  {
   "cell_type": "code",
   "execution_count": 1,
   "id": "abc572af",
   "metadata": {},
   "outputs": [
    {
     "name": "stdout",
     "output_type": "stream",
     "text": [
      "odds 1\n",
      "evens 2\n",
      "odds 3\n",
      "evens 4\n",
      "odds 5\n",
      "evens 6\n",
      "odds 7\n",
      "evens 8\n",
      "odds 9\n"
     ]
    }
   ],
   "source": [
    "numbers = range(1,10)\n",
    "for i in numbers:\n",
    "    if i%2 == 0:\n",
    "        print('evens', i)\n",
    "    else:\n",
    "        print('odds', i)"
   ]
  },
  {
   "cell_type": "code",
   "execution_count": 2,
   "id": "6df5a4b2",
   "metadata": {},
   "outputs": [
    {
     "name": "stdout",
     "output_type": "stream",
     "text": [
      "evens [0, 2, 4, 6, 8]\n",
      "odds [1, 3, 5, 7, 9]\n"
     ]
    }
   ],
   "source": [
    "evens = []\n",
    "odds = []\n",
    "\n",
    "for i in range(10):\n",
    "    \n",
    "    if i%2 == 0:\n",
    "        evens.append(i)\n",
    "    else:\n",
    "        odds.append(i)\n",
    "        \n",
    "print('evens', evens)\n",
    "print('odds', odds)"
   ]
  },
  {
   "cell_type": "code",
   "execution_count": 5,
   "id": "1e5777d4",
   "metadata": {},
   "outputs": [
    {
     "name": "stdout",
     "output_type": "stream",
     "text": [
      "The number of even numbers : 3\n",
      "The number of odds numbers : 4\n"
     ]
    }
   ],
   "source": [
    "evens = []\n",
    "odds = []\n",
    "example = [11,2,24,61,48,33,3]\n",
    "for i in example:\n",
    "    if i%2 == 0:\n",
    "        evens.append(i)\n",
    "    else:\n",
    "        odds.append(i)\n",
    "        \n",
    "print(f'The number of even numbers : {len(evens)}')\n",
    "print(f'The number of odds numbers : {len(odds)}')\n",
    "      \n",
    "      \n",
    "    \n",
    "    "
   ]
  },
  {
   "cell_type": "code",
   "execution_count": 6,
   "id": "58f5f4b4",
   "metadata": {},
   "outputs": [
    {
     "name": "stdout",
     "output_type": "stream",
     "text": [
      "Evens count :  4\n",
      "Odds count :  5\n"
     ]
    }
   ],
   "source": [
    "### sayac yontemiyle hesaplama\n",
    "\n",
    "evens = 0\n",
    "odds = 0\n",
    "\n",
    "for i in numbers:\n",
    "    if i%2 == 0:\n",
    "        evens += 1\n",
    "    else:\n",
    "        odds += 1\n",
    "\n",
    "print('Evens count : ', evens)\n",
    "print('Odds count : ', odds)\n",
    "        \n",
    "    \n"
   ]
  },
  {
   "cell_type": "code",
   "execution_count": 1,
   "id": "935a5e0c",
   "metadata": {},
   "outputs": [],
   "source": [
    "def slicer(*number):\n",
    "    \n",
    "    evens=[]\n",
    "    odds=[]\n",
    "    \n",
    "    for i in number:\n",
    "        \n",
    "        if i%2==0:\n",
    "            evens.append(i)\n",
    "        else:\n",
    "            odds.append(i)\n",
    "        \n",
    "    print('even list: ',evens)\n",
    "    print('odd list: ', odds)\n"
   ]
  },
  {
   "cell_type": "code",
   "execution_count": 2,
   "id": "c9950dff",
   "metadata": {},
   "outputs": [
    {
     "name": "stdout",
     "output_type": "stream",
     "text": [
      "even list:  [2, 4, 6]\n",
      "odd list:  [1, 3, 5]\n"
     ]
    }
   ],
   "source": [
    "slicer(1,2,3,4,5,6)"
   ]
  },
  {
   "cell_type": "code",
   "execution_count": null,
   "id": "fcb45214",
   "metadata": {},
   "outputs": [],
   "source": []
  },
  {
   "cell_type": "code",
   "execution_count": null,
   "id": "a88f3bb4",
   "metadata": {},
   "outputs": [],
   "source": []
  }
 ],
 "metadata": {
  "kernelspec": {
   "display_name": "Python 3 (ipykernel)",
   "language": "python",
   "name": "python3"
  },
  "language_info": {
   "codemirror_mode": {
    "name": "ipython",
    "version": 3
   },
   "file_extension": ".py",
   "mimetype": "text/x-python",
   "name": "python",
   "nbconvert_exporter": "python",
   "pygments_lexer": "ipython3",
   "version": "3.9.7"
  }
 },
 "nbformat": 4,
 "nbformat_minor": 5
}
