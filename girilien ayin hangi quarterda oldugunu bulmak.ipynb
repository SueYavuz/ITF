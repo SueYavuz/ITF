{
 "cells": [
  {
   "cell_type": "code",
   "execution_count": 1,
   "id": "97448ff8",
   "metadata": {},
   "outputs": [
    {
     "name": "stdout",
     "output_type": "stream",
     "text": [
      "sayi giriniz 1-12 :5\n",
      "quarters-2 May\n"
     ]
    }
   ],
   "source": [
    "ay = input('sayi giriniz 1-12 :')\n",
    "\n",
    "aylar={\"quarters-1\":{\n",
    "            \"1\":\"January\",\n",
    "            \"2\": 'February',\n",
    "            \"3\": \"March\"},\n",
    "       \"quarters-2\":{\n",
    "            \"4\": \"April\",\n",
    "            \"5\": \"May\",\n",
    "            \"6\": \"June\"},\n",
    "       \"quarters-3\": {\n",
    "            \"7\": \"Jully\",\n",
    "            \"8\": \"August\",\n",
    "            \"9\": \"September\"},\n",
    "       \"quarters-4\":{\n",
    "            \"10\": \"October\",\n",
    "            \"11\": \"November\",\n",
    "            \"12\": \"December\"}\n",
    "      }\n",
    "\n",
    "if ay in aylar['quarters-1']:\n",
    "    yeni = aylar['quarters-1']\n",
    "    print('quarters-1',yeni.get(ay))\n",
    "    \n",
    "elif ay in aylar['quarters-2']:\n",
    "    yeni = aylar['quarters-2']\n",
    "    print('quarters-2',yeni.get(ay))\n",
    "\n",
    "elif ay in aylar['quarters-3']:\n",
    "    yeni = aylar['quarters-3']\n",
    "    print('quarters-3',yeni.get(ay))\n",
    "    \n",
    "elif ay in aylar['quarters-4']:\n",
    "    yeni = aylar['quarters-4']\n",
    "    print('quarters-4',yeni.get(ay))    \n",
    "    \n",
    "else:\n",
    "    print('yanlis girdiniz')"
   ]
  },
  {
   "cell_type": "code",
   "execution_count": null,
   "id": "74a72c04",
   "metadata": {},
   "outputs": [],
   "source": []
  }
 ],
 "metadata": {
  "kernelspec": {
   "display_name": "Python 3 (ipykernel)",
   "language": "python",
   "name": "python3"
  },
  "language_info": {
   "codemirror_mode": {
    "name": "ipython",
    "version": 3
   },
   "file_extension": ".py",
   "mimetype": "text/x-python",
   "name": "python",
   "nbconvert_exporter": "python",
   "pygments_lexer": "ipython3",
   "version": "3.9.7"
  }
 },
 "nbformat": 4,
 "nbformat_minor": 5
}
