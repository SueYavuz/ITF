{
 "cells": [
  {
   "cell_type": "code",
   "execution_count": 1,
   "id": "9c6eed56",
   "metadata": {},
   "outputs": [
    {
     "name": "stdout",
     "output_type": "stream",
     "text": [
      "write your age: j\n",
      "this is not valid input!\n",
      "write a valid age of your: 9\n",
      "you entered valid input!\n"
     ]
    }
   ],
   "source": [
    "age = input('write your age: ')\n",
    "while not age.isdigit():\n",
    "    print('this is not valid input!')\n",
    "    age = input('write a valid age of your: ')\n",
    "print('you entered valid input!')"
   ]
  },
  {
   "cell_type": "code",
   "execution_count": 2,
   "id": "6129c1a7",
   "metadata": {},
   "outputs": [
    {
     "name": "stdout",
     "output_type": "stream",
     "text": [
      "guess a number: 66\n",
      "little lower......\n",
      "guess a number: 33\n",
      "little lower......\n",
      "guess a number: 22\n",
      "little higher....\n",
      "guess a number: 23\n",
      "little higher....\n",
      "guess a number: 25\n",
      "you are mindreader! \n"
     ]
    }
   ],
   "source": [
    "number = 25\n",
    "\n",
    "while True:\n",
    "    \n",
    "    guess = int(input('guess a number: '))\n",
    "    \n",
    "    if guess < number:\n",
    "        print('little higher....')\n",
    "        \n",
    "        \n",
    "    elif guess > number:\n",
    "        print('little lower......')\n",
    "        \n",
    "        \n",
    "    else:\n",
    "        print('you are mindreader! ')\n",
    "        break\n",
    "        \n",
    "        \n",
    "        \n"
   ]
  },
  {
   "cell_type": "code",
   "execution_count": null,
   "id": "1bfd094e",
   "metadata": {},
   "outputs": [],
   "source": [
    "number = 25\n",
    "\n",
    "while True:\n",
    "    \n",
    "    guess = int(input('guess a number: '))\n",
    "    \n",
    "    if guess < number:\n",
    "        print('little higher....')\n",
    "        \n",
    "        \n",
    "    elif guess > number:\n",
    "        print('little lower......')\n",
    "        \n",
    "        \n",
    "    else:\n",
    "        print('you are mindreader! ')\n",
    "        break\n",
    "        \n",
    "        \n",
    "        \n"
   ]
  },
  {
   "cell_type": "code",
   "execution_count": null,
   "id": "9d8943b0",
   "metadata": {},
   "outputs": [],
   "source": []
  },
  {
   "cell_type": "code",
   "execution_count": null,
   "id": "ca061b1d",
   "metadata": {},
   "outputs": [],
   "source": []
  },
  {
   "cell_type": "code",
   "execution_count": null,
   "id": "49ec13f9",
   "metadata": {},
   "outputs": [],
   "source": []
  }
 ],
 "metadata": {
  "kernelspec": {
   "display_name": "Python 3 (ipykernel)",
   "language": "python",
   "name": "python3"
  },
  "language_info": {
   "codemirror_mode": {
    "name": "ipython",
    "version": 3
   },
   "file_extension": ".py",
   "mimetype": "text/x-python",
   "name": "python",
   "nbconvert_exporter": "python",
   "pygments_lexer": "ipython3",
   "version": "3.9.7"
  }
 },
 "nbformat": 4,
 "nbformat_minor": 5
}
