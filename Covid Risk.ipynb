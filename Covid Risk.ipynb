{
 "cells": [
  {
   "cell_type": "code",
   "execution_count": null,
   "id": "e29d9fda",
   "metadata": {},
   "outputs": [],
   "source": [
    "print('Welcome to check your covid risk')\n",
    "print(\"Please leave empty if False and Type anything if True\")\n",
    "age = input('Are you a cigarette addict older than 75 years old? leave empty if False and Type anything if True')\n",
    "chronic = input('Do you have a severe chronic disease? Yes or No: ')\n",
    "immune = input('Is your immune system too weak? Yes or No: ')\n",
    "\n",
    "\n",
    "risk = age and chronic and immune\n",
    "\n",
    "if risk:\n",
    "    print(\"You are in risky group\")\n",
    "else:\n",
    "    print(\"You are not in risky group\")"
   ]
  }
 ],
 "metadata": {
  "kernelspec": {
   "display_name": "Python 3 (ipykernel)",
   "language": "python",
   "name": "python3"
  },
  "language_info": {
   "codemirror_mode": {
    "name": "ipython",
    "version": 3
   },
   "file_extension": ".py",
   "mimetype": "text/x-python",
   "name": "python",
   "nbconvert_exporter": "python",
   "pygments_lexer": "ipython3",
   "version": "3.9.7"
  }
 },
 "nbformat": 4,
 "nbformat_minor": 5
}
