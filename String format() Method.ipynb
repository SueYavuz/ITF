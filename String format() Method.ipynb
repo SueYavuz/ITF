{
 "cells": [
  {
   "cell_type": "markdown",
   "id": "5ea16e97",
   "metadata": {},
   "source": [
    "# String format() Method"
   ]
  },
  {
   "cell_type": "markdown",
   "id": "68d39c30",
   "metadata": {},
   "source": [
    "Re-arrange the sentence using the escape sequences from the list using .format() and list indexing methods to get the following output.\n",
    "\n",
    "Desired output :\n",
    "I am 40 years old.\n",
    "    I have two children.\n",
    "        Data Science is my IT domain."
   ]
  },
  {
   "cell_type": "markdown",
   "id": "77ea972c",
   "metadata": {},
   "source": [
    "Hint:\n",
    "Input\tOutput\n",
    "month = \"{}February\".format(\"\\t\")\n",
    "\n",
    "print(month)\n",
    "    February"
   ]
  },
  {
   "cell_type": "code",
   "execution_count": 1,
   "id": "acc03068",
   "metadata": {},
   "outputs": [
    {
     "name": "stdout",
     "output_type": "stream",
     "text": [
      "I am 40 years old.\n",
      "\t I have two children.\n",
      "\t\t Data Science is my IT domain.\n",
      "\t\t\t\n"
     ]
    }
   ],
   "source": [
    "sentence = \"I am 40 years old.{} I have two children.{} Data Science is my IT domain.{}\".format(\"\\n\\t\", \"\\n\\t\\t\", \"\\n\\t\\t\\t\")\n",
    "\n",
    "print(sentence)"
   ]
  }
 ],
 "metadata": {
  "kernelspec": {
   "display_name": "Python 3 (ipykernel)",
   "language": "python",
   "name": "python3"
  },
  "language_info": {
   "codemirror_mode": {
    "name": "ipython",
    "version": 3
   },
   "file_extension": ".py",
   "mimetype": "text/x-python",
   "name": "python",
   "nbconvert_exporter": "python",
   "pygments_lexer": "ipython3",
   "version": "3.9.7"
  },
  "toc": {
   "base_numbering": 1,
   "nav_menu": {},
   "number_sections": true,
   "sideBar": true,
   "skip_h1_title": false,
   "title_cell": "Table of Contents",
   "title_sidebar": "Contents",
   "toc_cell": false,
   "toc_position": {},
   "toc_section_display": true,
   "toc_window_display": false
  }
 },
 "nbformat": 4,
 "nbformat_minor": 5
}
