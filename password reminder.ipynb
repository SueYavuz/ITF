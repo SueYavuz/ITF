{
 "cells": [
  {
   "cell_type": "code",
   "execution_count": null,
   "id": "6628ec1c",
   "metadata": {},
   "outputs": [],
   "source": [
    "name =\"Sue\"\n",
    "password = \"sifreni_hep_unutuyorsun\"\n",
    "\n",
    "name_ = input(\"Please enter your name: \").title()\n",
    "if name_ == name:\n",
    "    print(f\"Hello {name_}! Your password is {password}\")\n",
    "    \n",
    "else:\n",
    "    print(f\"Hello {name_}! See you later alligator... \")"
   ]
  },
  {
   "cell_type": "code",
   "execution_count": null,
   "id": "1a0efde3",
   "metadata": {},
   "outputs": [],
   "source": []
  },
  {
   "cell_type": "code",
   "execution_count": null,
   "id": "263bdbee",
   "metadata": {},
   "outputs": [],
   "source": []
  },
  {
   "cell_type": "code",
   "execution_count": null,
   "id": "c0be5eb4",
   "metadata": {},
   "outputs": [],
   "source": []
  },
  {
   "cell_type": "code",
   "execution_count": null,
   "id": "1c15fbac",
   "metadata": {},
   "outputs": [],
   "source": []
  }
 ],
 "metadata": {
  "kernelspec": {
   "display_name": "Python 3 (ipykernel)",
   "language": "python",
   "name": "python3"
  },
  "language_info": {
   "codemirror_mode": {
    "name": "ipython",
    "version": 3
   },
   "file_extension": ".py",
   "mimetype": "text/x-python",
   "name": "python",
   "nbconvert_exporter": "python",
   "pygments_lexer": "ipython3",
   "version": "3.9.7"
  }
 },
 "nbformat": 4,
 "nbformat_minor": 5
}
