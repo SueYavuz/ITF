{
 "cells": [
  {
   "cell_type": "code",
   "execution_count": null,
   "id": "cab28f38",
   "metadata": {},
   "outputs": [],
   "source": [
    "sentence = input('Give me a sentence : ')\n",
    "word_list = sentence.split()\n",
    "\n",
    "longest = 0\n",
    "i = 0\n",
    "\n",
    "while i < len(word_list) :\n",
    "    if len(word_list[i]) >longest:\n",
    "        longest = len(word_list[i])\n",
    "        \n",
    "    i += 1\n",
    "    \n",
    "print('The length of the longest word : ', longest)\n",
    "    \n"
   ]
  }
 ],
 "metadata": {
  "kernelspec": {
   "display_name": "Python 3 (ipykernel)",
   "language": "python",
   "name": "python3"
  },
  "language_info": {
   "codemirror_mode": {
    "name": "ipython",
    "version": 3
   },
   "file_extension": ".py",
   "mimetype": "text/x-python",
   "name": "python",
   "nbconvert_exporter": "python",
   "pygments_lexer": "ipython3",
   "version": "3.9.7"
  }
 },
 "nbformat": 4,
 "nbformat_minor": 5
}
