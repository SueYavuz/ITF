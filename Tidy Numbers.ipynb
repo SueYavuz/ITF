{
 "cells": [
  {
   "cell_type": "code",
   "execution_count": 1,
   "id": "882599b1",
   "metadata": {},
   "outputs": [
    {
     "name": "stdout",
     "output_type": "stream",
     "text": [
      "bir sayi giriniz: 7878\n",
      "False\n"
     ]
    }
   ],
   "source": [
    "sayi = input('bir sayi giriniz: ')\n",
    "\n",
    "start=0\n",
    "for ilk in sayi:\n",
    "    if int(ilk) >= start:\n",
    "        start = int(ilk)\n",
    "    else:\n",
    "        print('False')\n",
    "        break     \n",
    "        \n",
    "#eger break olmazsa sayinin icinde her false durumu asagida defalarca yazacak\n",
    "\n",
    "if int(ilk) >= start:\n",
    "    print(\"True\")\n",
    "    "
   ]
  },
  {
   "cell_type": "code",
   "execution_count": 2,
   "id": "0be16d24",
   "metadata": {},
   "outputs": [
    {
     "name": "stdout",
     "output_type": "stream",
     "text": [
      "bir sayi giriniz: 1245789\n",
      "True\n"
     ]
    }
   ],
   "source": [
    "sayi = input('bir sayi giriniz: ')\n",
    "\n",
    "start=0\n",
    "for ilk in sayi:\n",
    "    if int(ilk) >= start:\n",
    "        start = int(ilk)\n",
    "    else:\n",
    "        print('False')\n",
    "        break     \n",
    "        \n",
    "#eger break olmazsa sayinin icinde her false durumu asagida defalarca yazacak\n",
    "\n",
    "if int(ilk) >= start:\n",
    "    print(\"True\")\n",
    "    "
   ]
  },
  {
   "cell_type": "code",
   "execution_count": null,
   "id": "f922da39",
   "metadata": {},
   "outputs": [],
   "source": []
  }
 ],
 "metadata": {
  "kernelspec": {
   "display_name": "Python 3 (ipykernel)",
   "language": "python",
   "name": "python3"
  },
  "language_info": {
   "codemirror_mode": {
    "name": "ipython",
    "version": 3
   },
   "file_extension": ".py",
   "mimetype": "text/x-python",
   "name": "python",
   "nbconvert_exporter": "python",
   "pygments_lexer": "ipython3",
   "version": "3.9.7"
  }
 },
 "nbformat": 4,
 "nbformat_minor": 5
}
