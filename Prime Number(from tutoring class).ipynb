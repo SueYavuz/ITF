{
 "cells": [
  {
   "cell_type": "code",
   "execution_count": null,
   "id": "e2110174",
   "metadata": {},
   "outputs": [],
   "source": [
    "#getting a number from user and checking if it is prime number."
   ]
  },
  {
   "cell_type": "code",
   "execution_count": 4,
   "id": "bd61f74f",
   "metadata": {},
   "outputs": [
    {
     "name": "stdout",
     "output_type": "stream",
     "text": [
      "Write a number and see if it is a prime number or not: -0987\n",
      "Sorry... It's not a prime number....\n"
     ]
    }
   ],
   "source": [
    "inp1 = int(input(\"Write a number and see if it is a prime number or not: \"))\n",
    "flag = True\n",
    "\n",
    "for i in range(2,inp1):\n",
    "    if inp1 % i == 0:\n",
    "        flag = False\n",
    "        break\n",
    "\n",
    "if flag and inp1 > 1:\n",
    "    print(\"Yeah..!! It's prime...\")\n",
    "    \n",
    "else:\n",
    "    print(\"Sorry... It's not a prime number....\")"
   ]
  },
  {
   "cell_type": "code",
   "execution_count": 7,
   "id": "b23dc944",
   "metadata": {},
   "outputs": [
    {
     "name": "stdout",
     "output_type": "stream",
     "text": [
      "Write a number and see if it is a prime number or not: 87\n",
      "2 is prime\n",
      "3 is prime\n",
      "4 is NOT prime\n",
      "5 is prime\n",
      "6 is NOT prime\n",
      "7 is prime\n",
      "8 is NOT prime\n",
      "9 is NOT prime\n",
      "10 is NOT prime\n",
      "11 is prime\n",
      "12 is NOT prime\n",
      "13 is prime\n",
      "14 is NOT prime\n",
      "15 is NOT prime\n",
      "16 is NOT prime\n",
      "17 is prime\n",
      "18 is NOT prime\n",
      "19 is prime\n",
      "20 is NOT prime\n",
      "21 is NOT prime\n",
      "22 is NOT prime\n",
      "23 is prime\n",
      "24 is NOT prime\n",
      "25 is NOT prime\n",
      "26 is NOT prime\n",
      "27 is NOT prime\n",
      "28 is NOT prime\n",
      "29 is prime\n",
      "30 is NOT prime\n",
      "31 is prime\n",
      "32 is NOT prime\n",
      "33 is NOT prime\n",
      "34 is NOT prime\n",
      "35 is NOT prime\n",
      "36 is NOT prime\n",
      "37 is prime\n",
      "38 is NOT prime\n",
      "39 is NOT prime\n",
      "40 is NOT prime\n",
      "41 is prime\n",
      "42 is NOT prime\n",
      "43 is prime\n",
      "44 is NOT prime\n",
      "45 is NOT prime\n",
      "46 is NOT prime\n",
      "47 is prime\n",
      "48 is NOT prime\n",
      "49 is NOT prime\n",
      "50 is NOT prime\n",
      "51 is NOT prime\n",
      "52 is NOT prime\n",
      "53 is prime\n",
      "54 is NOT prime\n",
      "55 is NOT prime\n",
      "56 is NOT prime\n",
      "57 is NOT prime\n",
      "58 is NOT prime\n",
      "59 is prime\n",
      "60 is NOT prime\n",
      "61 is prime\n",
      "62 is NOT prime\n",
      "63 is NOT prime\n",
      "64 is NOT prime\n",
      "65 is NOT prime\n",
      "66 is NOT prime\n",
      "67 is prime\n",
      "68 is NOT prime\n",
      "69 is NOT prime\n",
      "70 is NOT prime\n",
      "71 is prime\n",
      "72 is NOT prime\n",
      "73 is prime\n",
      "74 is NOT prime\n",
      "75 is NOT prime\n",
      "76 is NOT prime\n",
      "77 is NOT prime\n",
      "78 is NOT prime\n",
      "79 is prime\n",
      "80 is NOT prime\n",
      "81 is NOT prime\n",
      "82 is NOT prime\n",
      "83 is prime\n",
      "84 is NOT prime\n",
      "85 is NOT prime\n",
      "86 is NOT prime\n"
     ]
    }
   ],
   "source": [
    "inp1 = int(input(\"Write a number and see if it is a prime number or not: \"))\n",
    "for i in range(2,inp1):\n",
    "    flag = True\n",
    "    for j in range(2,i):\n",
    "        if i%j ==0:\n",
    "            flag = False\n",
    "            break\n",
    "    if flag and inp1 >1:\n",
    "        print(i,\"is prime\")\n",
    "    else:\n",
    "        print(i, \"is NOT prime\")"
   ]
  },
  {
   "cell_type": "code",
   "execution_count": null,
   "id": "175d0d73",
   "metadata": {},
   "outputs": [],
   "source": []
  }
 ],
 "metadata": {
  "kernelspec": {
   "display_name": "Python 3 (ipykernel)",
   "language": "python",
   "name": "python3"
  },
  "language_info": {
   "codemirror_mode": {
    "name": "ipython",
    "version": 3
   },
   "file_extension": ".py",
   "mimetype": "text/x-python",
   "name": "python",
   "nbconvert_exporter": "python",
   "pygments_lexer": "ipython3",
   "version": "3.9.7"
  }
 },
 "nbformat": 4,
 "nbformat_minor": 5
}
