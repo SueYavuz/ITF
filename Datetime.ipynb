{
 "cells": [
  {
   "cell_type": "code",
   "execution_count": 5,
   "id": "f71a09d6",
   "metadata": {},
   "outputs": [
    {
     "name": "stdout",
     "output_type": "stream",
     "text": [
      "task completed\n",
      "2022-03-10 15:33:41.623226\n",
      "\n",
      "0\n",
      "1\n",
      "2\n",
      "3\n",
      "4\n",
      "5\n",
      "6\n",
      "7\n",
      "8\n",
      "9\n",
      "task completed\n",
      "2022-03-10 15:33:41.623857\n",
      "\n"
     ]
    }
   ],
   "source": [
    "import datetime\n",
    "#function to print current date and time\n",
    "def print_time():\n",
    "    print('task completed')\n",
    "    print(datetime.datetime.now())\n",
    "    print()\n",
    "    \n",
    "#print timestamps to see how long sections of code\n",
    "#take to run\n",
    "\n",
    "first_name = \"Susan\"\n",
    "print_time()\n",
    "\n",
    "for x in range(0,10):\n",
    "    print(x)\n",
    "print_time()"
   ]
  },
  {
   "cell_type": "code",
   "execution_count": 8,
   "id": "f90c92e5",
   "metadata": {},
   "outputs": [
    {
     "name": "stdout",
     "output_type": "stream",
     "text": [
      "printed first name\n",
      "2022-03-10 15:38:38.023446\n",
      "\n",
      "0\n",
      "1\n",
      "2\n",
      "3\n",
      "4\n",
      "5\n",
      "6\n",
      "7\n",
      "8\n",
      "9\n",
      "completed for loop\n",
      "2022-03-10 15:38:38.024226\n",
      "\n"
     ]
    }
   ],
   "source": [
    "from datetime import datetime\n",
    "#function to print current date and time\n",
    "def print_time(task_name):\n",
    "    print(task_name)\n",
    "    print(datetime.now())\n",
    "    print()\n",
    "    \n",
    "#print timestamps to see how long sections of code\n",
    "#take to run\n",
    "\n",
    "first_name = \"Susan\"\n",
    "print_time(\"printed first name\")\n",
    "\n",
    "for x in range(0,10):\n",
    "    print(x)\n",
    "print_time('completed for loop')"
   ]
  },
  {
   "cell_type": "code",
   "execution_count": null,
   "id": "e7302af9",
   "metadata": {},
   "outputs": [],
   "source": []
  },
  {
   "cell_type": "code",
   "execution_count": null,
   "id": "462e115a",
   "metadata": {},
   "outputs": [],
   "source": []
  }
 ],
 "metadata": {
  "kernelspec": {
   "display_name": "Python 3 (ipykernel)",
   "language": "python",
   "name": "python3"
  },
  "language_info": {
   "codemirror_mode": {
    "name": "ipython",
    "version": 3
   },
   "file_extension": ".py",
   "mimetype": "text/x-python",
   "name": "python",
   "nbconvert_exporter": "python",
   "pygments_lexer": "ipython3",
   "version": "3.9.7"
  }
 },
 "nbformat": 4,
 "nbformat_minor": 5
}
