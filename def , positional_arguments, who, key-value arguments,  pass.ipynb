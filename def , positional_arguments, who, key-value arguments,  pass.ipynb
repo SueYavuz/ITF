{
 "cells": [
  {
   "cell_type": "code",
   "execution_count": 2,
   "id": "11007f11",
   "metadata": {},
   "outputs": [
    {
     "name": "stdout",
     "output_type": "stream",
     "text": [
      "5.0\n"
     ]
    }
   ],
   "source": [
    "def average(lst):\n",
    "    lst_avg = sum(lst)/len(lst)\n",
    "    return lst_avg\n",
    "\n",
    "ls1 = list(range(1,10))\n",
    "\n",
    "print(average(ls1))"
   ]
  },
  {
   "cell_type": "code",
   "execution_count": 4,
   "id": "d01bd81d",
   "metadata": {},
   "outputs": [
    {
     "name": "stdout",
     "output_type": "stream",
     "text": [
      "your first name is : Guido\n",
      "your last name is : van Rossum\n",
      "your first name is : Sue\n",
      "your last name is : Yavuz\n"
     ]
    }
   ],
   "source": [
    "#WHO\n",
    "def who(first,last):\n",
    "    print('your first name is :', first)\n",
    "    print('your last name is :', last)\n",
    "    \n",
    "who('Guido','van Rossum')\n",
    "who('Sue', 'Yavuz')"
   ]
  },
  {
   "cell_type": "code",
   "execution_count": 6,
   "id": "f27ea659",
   "metadata": {},
   "outputs": [
    {
     "name": "stdout",
     "output_type": "stream",
     "text": [
      "0\n",
      "4\n",
      "2\n"
     ]
    }
   ],
   "source": [
    "#positional arguments\n",
    "\n",
    "def math_nums(a,b,c):\n",
    "    return a + b -c\n",
    "\n",
    "print(math_nums(1,2,3))\n",
    "print(math_nums(2,3,1))  \n",
    "print(math_nums(1,3,2))"
   ]
  },
  {
   "cell_type": "code",
   "execution_count": 11,
   "id": "495c7bea",
   "metadata": {},
   "outputs": [
    {
     "name": "stdout",
     "output_type": "stream",
     "text": [
      "I love you\n",
      "I love you \n"
     ]
    }
   ],
   "source": [
    "#output should be I love you\n",
    "def texter(x, y, z):\n",
    "    return y.upper() + z + x  #a+b+c\n",
    "a = 'i '\n",
    "b = 'love '\n",
    "c = 'you'\n",
    "\n",
    "print(texter(c, a, b))\n",
    "print(texter('you ','i ', 'love '))\n"
   ]
  },
  {
   "cell_type": "code",
   "execution_count": 18,
   "id": "327be9e1",
   "metadata": {},
   "outputs": [
    {
     "name": "stdout",
     "output_type": "stream",
     "text": [
      "I  love  you\n",
      "None\n"
     ]
    }
   ],
   "source": [
    "def texter(text1, text2, text3):\n",
    "    return print(f\"{text2.upper()} {text3} {text1}\")\n",
    "\n",
    "a = 'i '\n",
    "b = 'love '\n",
    "c = 'you'\n",
    "\n",
    "print(texter(c, a, b))\n",
    "    "
   ]
  },
  {
   "cell_type": "code",
   "execution_count": 19,
   "id": "f4a549be",
   "metadata": {},
   "outputs": [
    {
     "name": "stdout",
     "output_type": "stream",
     "text": [
      "-- This parrot wouldn't voom if you put 1000 volts through it.\n",
      "-- Lovely plumage, the Norwegian Blue\n",
      "-- It's a stiff !\n"
     ]
    }
   ],
   "source": [
    "def parrot(voltage, state='a stiff', action='voom', type='Norwegian Blue'):\n",
    "    print(\"-- This parrot wouldn't\", action, end=' ')\n",
    "    print(\"if you put\", voltage, \"volts through it.\")\n",
    "    print(\"-- Lovely plumage, the\", type)\n",
    "    print(\"-- It's\", state, \"!\")\n",
    "    \n",
    "parrot(1000)"
   ]
  },
  {
   "cell_type": "code",
   "execution_count": 24,
   "id": "acba83ad",
   "metadata": {},
   "outputs": [
    {
     "name": "stdout",
     "output_type": "stream",
     "text": [
      "-- This parrot wouldn't voom if you put 1000 volts through it.\n",
      "-- Lovely plumage, the Norwegian Blue\n",
      "-- It's a stiff !\n"
     ]
    }
   ],
   "source": [
    "    \n",
    "parrot(voltage=1000)"
   ]
  },
  {
   "cell_type": "code",
   "execution_count": 25,
   "id": "f0093222",
   "metadata": {},
   "outputs": [
    {
     "name": "stdout",
     "output_type": "stream",
     "text": [
      "-- This parrot wouldn't VOOOOOOM if you put 1000000 volts through it.\n",
      "-- Lovely plumage, the Norwegian Blue\n",
      "-- It's a stiff !\n"
     ]
    }
   ],
   "source": [
    "parrot(voltage=1000000, action=\"VOOOOOOM\")"
   ]
  },
  {
   "cell_type": "code",
   "execution_count": 27,
   "id": "e6144914",
   "metadata": {},
   "outputs": [
    {
     "name": "stdout",
     "output_type": "stream",
     "text": [
      "-- This parrot wouldn't jump if you put a million volts through it.\n",
      "-- Lovely plumage, the Tanzanian multi color\n",
      "-- It's berefit of life !\n"
     ]
    }
   ],
   "source": [
    "parrot('a million', 'berefit of life', 'jump', 'Tanzanian multi color')"
   ]
  },
  {
   "cell_type": "code",
   "execution_count": 28,
   "id": "03721b2b",
   "metadata": {},
   "outputs": [
    {
     "ename": "TypeError",
     "evalue": "parrot() takes from 1 to 4 positional arguments but 5 were given",
     "output_type": "error",
     "traceback": [
      "\u001b[0;31m---------------------------------------------------------------------------\u001b[0m",
      "\u001b[0;31mTypeError\u001b[0m                                 Traceback (most recent call last)",
      "\u001b[0;32m/var/folders/wk/n0rjrcc539b8hl_lgc074gsm0000gn/T/ipykernel_1806/1831804691.py\u001b[0m in \u001b[0;36m<module>\u001b[0;34m\u001b[0m\n\u001b[1;32m      1\u001b[0m \u001b[0;31m#python cant handle if you give more than arguments verilenden fazla verilirse\u001b[0m\u001b[0;34m\u001b[0m\u001b[0;34m\u001b[0m\u001b[0m\n\u001b[0;32m----> 2\u001b[0;31m \u001b[0mparrot\u001b[0m\u001b[0;34m(\u001b[0m\u001b[0;34m'a million'\u001b[0m\u001b[0;34m,\u001b[0m \u001b[0;34m'berefit of life'\u001b[0m\u001b[0;34m,\u001b[0m \u001b[0;34m'jump'\u001b[0m\u001b[0;34m,\u001b[0m \u001b[0;34m'Tanzanian multi color'\u001b[0m\u001b[0;34m,\u001b[0m\u001b[0;34m'fazlasi'\u001b[0m\u001b[0;34m)\u001b[0m\u001b[0;34m\u001b[0m\u001b[0;34m\u001b[0m\u001b[0m\n\u001b[0m",
      "\u001b[0;31mTypeError\u001b[0m: parrot() takes from 1 to 4 positional arguments but 5 were given"
     ]
    }
   ],
   "source": [
    "#python cant handle if you give more than arguments verilenden fazla verilirse\n",
    "parrot('a million', 'berefit of life', 'jump', 'Tanzanian multi color','fazlasi')"
   ]
  },
  {
   "cell_type": "code",
   "execution_count": 29,
   "id": "33a039fa",
   "metadata": {},
   "outputs": [],
   "source": [
    "#pass ---> get the funct but dont do anything just pass\n",
    "def funct(a):\n",
    "    pass\n",
    "\n",
    "funct(0)"
   ]
  },
  {
   "cell_type": "code",
   "execution_count": 34,
   "id": "75de71cb",
   "metadata": {},
   "outputs": [
    {
     "name": "stdout",
     "output_type": "stream",
     "text": [
      "Athens in Europe\n"
     ]
    }
   ],
   "source": [
    "def city(capital, continent='Europe'):\n",
    "    print(capital, 'in' , continent)\n",
    "\n",
    "city('Athens')"
   ]
  },
  {
   "cell_type": "code",
   "execution_count": 35,
   "id": "97a2281a",
   "metadata": {},
   "outputs": [
    {
     "name": "stdout",
     "output_type": "stream",
     "text": [
      "I want to get : \n",
      "- orange\n",
      "- mangos\n",
      "- mangoostan\n",
      "- banana\n",
      "<class 'tuple'>\n"
     ]
    }
   ],
   "source": [
    "def fruiterer(*fruit):\n",
    "    print('I want to get : ')\n",
    "    for i in fruit:\n",
    "        print('-', i)\n",
    "    print(type(fruit))\n",
    "    \n",
    "fruiterer('orange','mangos','mangoostan','banana')"
   ]
  },
  {
   "cell_type": "code",
   "execution_count": 37,
   "id": "31bfa00d",
   "metadata": {},
   "outputs": [
    {
     "name": "stdout",
     "output_type": "stream",
     "text": [
      "even list :  [2, 4, 6, 8]\n",
      "odd list :  [1, 3, 5, 7, 9]\n"
     ]
    }
   ],
   "source": [
    "def slicer(*num):\n",
    "    evens = []\n",
    "    odds = []\n",
    "    for i in num:\n",
    "        if i%2 == 0:\n",
    "            evens.append(i)\n",
    "        else:\n",
    "            odds.append(i)\n",
    "    print('even list : ', evens)\n",
    "    print('odd list : ',odds)\n",
    "    \n",
    "slicer(1,2,3,4,5,6,7,8,9)"
   ]
  },
  {
   "cell_type": "code",
   "execution_count": 38,
   "id": "d6f45231",
   "metadata": {},
   "outputs": [
    {
     "name": "stdout",
     "output_type": "stream",
     "text": [
      "even list :  [2, 4, 6, 8]\n",
      "odd list :  [1, 3, 5, 7, 9]\n"
     ]
    }
   ],
   "source": [
    "#daha kolay yolu\n",
    "#tek satirda cozumu \n",
    "\n",
    "def slicer(*num):\n",
    "    evens = [i for i in num if i%2 == 0]\n",
    "    odds = [i for i in num if i%2 != 0]\n",
    "    print('even list : ', evens)\n",
    "    print('odd list : ',odds)\n",
    "    \n",
    "slicer(1,2,3,4,5,6,7,8,9)"
   ]
  },
  {
   "cell_type": "code",
   "execution_count": 44,
   "id": "fb987f72",
   "metadata": {},
   "outputs": [
    {
     "ename": "TypeError",
     "evalue": "'builtin_function_or_method' object is not iterable",
     "output_type": "error",
     "traceback": [
      "\u001b[0;31m---------------------------------------------------------------------------\u001b[0m",
      "\u001b[0;31mTypeError\u001b[0m                                 Traceback (most recent call last)",
      "\u001b[0;32m/var/folders/wk/n0rjrcc539b8hl_lgc074gsm0000gn/T/ipykernel_1806/2969547318.py\u001b[0m in \u001b[0;36m<module>\u001b[0;34m\u001b[0m\n\u001b[1;32m      7\u001b[0m     \u001b[0mprint\u001b[0m\u001b[0;34m(\u001b[0m\u001b[0mnames\u001b[0m\u001b[0;34m,\u001b[0m \u001b[0mages\u001b[0m\u001b[0;34m,\u001b[0m \u001b[0msep\u001b[0m\u001b[0;34m=\u001b[0m\u001b[0;34m'\\n'\u001b[0m\u001b[0;34m)\u001b[0m\u001b[0;34m\u001b[0m\u001b[0;34m\u001b[0m\u001b[0m\n\u001b[1;32m      8\u001b[0m \u001b[0;34m\u001b[0m\u001b[0m\n\u001b[0;32m----> 9\u001b[0;31m \u001b[0morganizer\u001b[0m\u001b[0;34m(\u001b[0m\u001b[0mBeth\u001b[0m\u001b[0;34m=\u001b[0m\u001b[0;36m26\u001b[0m\u001b[0;34m,\u001b[0m \u001b[0mOscar\u001b[0m\u001b[0;34m=\u001b[0m\u001b[0;36m42\u001b[0m\u001b[0;34m,\u001b[0m \u001b[0mJustin\u001b[0m\u001b[0;34m=\u001b[0m\u001b[0;36m18\u001b[0m\u001b[0;34m,\u001b[0m \u001b[0mFrank\u001b[0m\u001b[0;34m=\u001b[0m\u001b[0;36m33\u001b[0m\u001b[0;34m)\u001b[0m\u001b[0;34m\u001b[0m\u001b[0;34m\u001b[0m\u001b[0m\n\u001b[0m",
      "\u001b[0;32m/var/folders/wk/n0rjrcc539b8hl_lgc074gsm0000gn/T/ipykernel_1806/2969547318.py\u001b[0m in \u001b[0;36morganizer\u001b[0;34m(**kwargs)\u001b[0m\n\u001b[1;32m      2\u001b[0m     \u001b[0mnames\u001b[0m \u001b[0;34m=\u001b[0m \u001b[0;34m[\u001b[0m\u001b[0;34m]\u001b[0m\u001b[0;34m\u001b[0m\u001b[0;34m\u001b[0m\u001b[0m\n\u001b[1;32m      3\u001b[0m     \u001b[0mages\u001b[0m \u001b[0;34m=\u001b[0m \u001b[0;34m[\u001b[0m\u001b[0;34m]\u001b[0m\u001b[0;34m\u001b[0m\u001b[0;34m\u001b[0m\u001b[0m\n\u001b[0;32m----> 4\u001b[0;31m     \u001b[0;32mfor\u001b[0m \u001b[0mkey\u001b[0m\u001b[0;34m,\u001b[0m\u001b[0mvalue\u001b[0m \u001b[0;32min\u001b[0m \u001b[0mkwargs\u001b[0m\u001b[0;34m.\u001b[0m\u001b[0mitems\u001b[0m\u001b[0;34m:\u001b[0m\u001b[0;34m\u001b[0m\u001b[0;34m\u001b[0m\u001b[0m\n\u001b[0m\u001b[1;32m      5\u001b[0m         \u001b[0mnames\u001b[0m\u001b[0;34m.\u001b[0m\u001b[0mappend\u001b[0m\u001b[0;34m(\u001b[0m\u001b[0mkey\u001b[0m\u001b[0;34m)\u001b[0m\u001b[0;34m\u001b[0m\u001b[0;34m\u001b[0m\u001b[0m\n\u001b[1;32m      6\u001b[0m         \u001b[0mages\u001b[0m\u001b[0;34m.\u001b[0m\u001b[0mappend\u001b[0m\u001b[0;34m(\u001b[0m\u001b[0mkey\u001b[0m\u001b[0;34m)\u001b[0m\u001b[0;34m\u001b[0m\u001b[0;34m\u001b[0m\u001b[0m\n",
      "\u001b[0;31mTypeError\u001b[0m: 'builtin_function_or_method' object is not iterable"
     ]
    }
   ],
   "source": [
    "def organizer(**kwargs):\n",
    "    names = []\n",
    "    ages = []\n",
    "    for key,value in kwargs.items:\n",
    "        names.append(key)\n",
    "        ages.append(key)\n",
    "    print(names, ages, sep='\\n')\n",
    "    \n",
    "organizer(Beth=26, Oscar=42, Justin=18, Frank=33)"
   ]
  },
  {
   "cell_type": "code",
   "execution_count": 40,
   "id": "1a5cc247",
   "metadata": {},
   "outputs": [
    {
     "name": "stdout",
     "output_type": "stream",
     "text": [
      "['Beth', 'Oscar', 'Justin', 'Frank']\n",
      "[26, 42, 18, 33]\n"
     ]
    }
   ],
   "source": [
    "def organizer(**kwargs):\n",
    "    names = [key for key in kwargs.keys()]\n",
    "    ages = [value for value in kwargs.values()]\n",
    "    print(names, ages, sep='\\n')\n",
    "    \n",
    "organizer(Beth=26, Oscar=42, Justin=18, Frank=33)"
   ]
  },
  {
   "cell_type": "code",
   "execution_count": null,
   "id": "4e68a157",
   "metadata": {},
   "outputs": [],
   "source": []
  },
  {
   "cell_type": "code",
   "execution_count": null,
   "id": "04fb16e4",
   "metadata": {},
   "outputs": [],
   "source": []
  }
 ],
 "metadata": {
  "kernelspec": {
   "display_name": "Python 3 (ipykernel)",
   "language": "python",
   "name": "python3"
  },
  "language_info": {
   "codemirror_mode": {
    "name": "ipython",
    "version": 3
   },
   "file_extension": ".py",
   "mimetype": "text/x-python",
   "name": "python",
   "nbconvert_exporter": "python",
   "pygments_lexer": "ipython3",
   "version": "3.9.7"
  }
 },
 "nbformat": 4,
 "nbformat_minor": 5
}
